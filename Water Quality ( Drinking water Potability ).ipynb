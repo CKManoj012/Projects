{
 "cells": [
  {
   "cell_type": "markdown",
   "metadata": {},
   "source": [
    "# Water Quality"
   ]
  },
  {
   "cell_type": "markdown",
   "metadata": {},
   "source": [
    "Access to safe drinking-water is essential to health, a basic human right and a component of effective policy for health protection. This is important as a health and development issue at a national, regional and local level. In some regions, it has been shown that investments in water supply and sanitation can yield a net economic benefit, since the reductions in adverse health effects and health care costs outweigh the costs of undertaking the interventions."
   ]
  },
  {
   "cell_type": "raw",
   "metadata": {},
   "source": [
    "pH value           : pH of water\n",
    "Hardness           : Capacity of water to precipitate soap in mg/L\n",
    "Solids             : Total dissolved solids in ppm\n",
    "Chloramines        : Amount of Chloramines in ppm\n",
    "Sulfate            : Amount of Sulfates dissolved in mg/L\n",
    "Conductivity       : Electrical conductivity of water in μS/cm\n",
    "Organic_carbon     : Amount of organic carbon in ppm\n",
    "Trihalomethanes    : Amount of Trihalomethanes in μg/L\n",
    "Turbidity          : Measure of light emiting property of water in NTU (Nephelometric Turbidity Units)\n",
    "Potability         : Indicates if water is safe for human consumption"
   ]
  },
  {
   "cell_type": "code",
   "execution_count": 1,
   "metadata": {},
   "outputs": [],
   "source": [
    "import numpy as np\n",
    "import pandas as pd\n",
    "import matplotlib.pyplot as plt\n",
    "import seaborn as sns\n",
    "from sklearn.tree import DecisionTreeClassifier\n",
    "from sklearn.model_selection import train_test_split\n",
    "from sklearn.model_selection import GridSearchCV\n",
    "from sklearn.metrics import accuracy_score\n",
    "from sklearn.metrics import confusion_matrix\n",
    "from sklearn.metrics import roc_curve,auc\n",
    "from sklearn.metrics import classification_report"
   ]
  },
  {
   "cell_type": "code",
   "execution_count": 2,
   "metadata": {},
   "outputs": [],
   "source": [
    "data = pd.read_csv('datasets/water_potability.csv')"
   ]
  },
  {
   "cell_type": "code",
   "execution_count": 3,
   "metadata": {},
   "outputs": [
    {
     "data": {
      "text/html": [
       "<div>\n",
       "<style scoped>\n",
       "    .dataframe tbody tr th:only-of-type {\n",
       "        vertical-align: middle;\n",
       "    }\n",
       "\n",
       "    .dataframe tbody tr th {\n",
       "        vertical-align: top;\n",
       "    }\n",
       "\n",
       "    .dataframe thead th {\n",
       "        text-align: right;\n",
       "    }\n",
       "</style>\n",
       "<table border=\"1\" class=\"dataframe\">\n",
       "  <thead>\n",
       "    <tr style=\"text-align: right;\">\n",
       "      <th></th>\n",
       "      <th>ph</th>\n",
       "      <th>Hardness</th>\n",
       "      <th>Solids</th>\n",
       "      <th>Chloramines</th>\n",
       "      <th>Sulfate</th>\n",
       "      <th>Conductivity</th>\n",
       "      <th>Organic_carbon</th>\n",
       "      <th>Trihalomethanes</th>\n",
       "      <th>Turbidity</th>\n",
       "      <th>Potability</th>\n",
       "    </tr>\n",
       "  </thead>\n",
       "  <tbody>\n",
       "    <tr>\n",
       "      <th>0</th>\n",
       "      <td>NaN</td>\n",
       "      <td>204.890455</td>\n",
       "      <td>20791.318981</td>\n",
       "      <td>7.300212</td>\n",
       "      <td>368.516441</td>\n",
       "      <td>564.308654</td>\n",
       "      <td>10.379783</td>\n",
       "      <td>86.990970</td>\n",
       "      <td>2.963135</td>\n",
       "      <td>0</td>\n",
       "    </tr>\n",
       "    <tr>\n",
       "      <th>1</th>\n",
       "      <td>3.716080</td>\n",
       "      <td>129.422921</td>\n",
       "      <td>18630.057858</td>\n",
       "      <td>6.635246</td>\n",
       "      <td>NaN</td>\n",
       "      <td>592.885359</td>\n",
       "      <td>15.180013</td>\n",
       "      <td>56.329076</td>\n",
       "      <td>4.500656</td>\n",
       "      <td>0</td>\n",
       "    </tr>\n",
       "    <tr>\n",
       "      <th>2</th>\n",
       "      <td>8.099124</td>\n",
       "      <td>224.236259</td>\n",
       "      <td>19909.541732</td>\n",
       "      <td>9.275884</td>\n",
       "      <td>NaN</td>\n",
       "      <td>418.606213</td>\n",
       "      <td>16.868637</td>\n",
       "      <td>66.420093</td>\n",
       "      <td>3.055934</td>\n",
       "      <td>0</td>\n",
       "    </tr>\n",
       "    <tr>\n",
       "      <th>3</th>\n",
       "      <td>8.316766</td>\n",
       "      <td>214.373394</td>\n",
       "      <td>22018.417441</td>\n",
       "      <td>8.059332</td>\n",
       "      <td>356.886136</td>\n",
       "      <td>363.266516</td>\n",
       "      <td>18.436524</td>\n",
       "      <td>100.341674</td>\n",
       "      <td>4.628771</td>\n",
       "      <td>0</td>\n",
       "    </tr>\n",
       "    <tr>\n",
       "      <th>4</th>\n",
       "      <td>9.092223</td>\n",
       "      <td>181.101509</td>\n",
       "      <td>17978.986339</td>\n",
       "      <td>6.546600</td>\n",
       "      <td>310.135738</td>\n",
       "      <td>398.410813</td>\n",
       "      <td>11.558279</td>\n",
       "      <td>31.997993</td>\n",
       "      <td>4.075075</td>\n",
       "      <td>0</td>\n",
       "    </tr>\n",
       "  </tbody>\n",
       "</table>\n",
       "</div>"
      ],
      "text/plain": [
       "         ph    Hardness        Solids  Chloramines     Sulfate  Conductivity  \\\n",
       "0       NaN  204.890455  20791.318981     7.300212  368.516441    564.308654   \n",
       "1  3.716080  129.422921  18630.057858     6.635246         NaN    592.885359   \n",
       "2  8.099124  224.236259  19909.541732     9.275884         NaN    418.606213   \n",
       "3  8.316766  214.373394  22018.417441     8.059332  356.886136    363.266516   \n",
       "4  9.092223  181.101509  17978.986339     6.546600  310.135738    398.410813   \n",
       "\n",
       "   Organic_carbon  Trihalomethanes  Turbidity  Potability  \n",
       "0       10.379783        86.990970   2.963135           0  \n",
       "1       15.180013        56.329076   4.500656           0  \n",
       "2       16.868637        66.420093   3.055934           0  \n",
       "3       18.436524       100.341674   4.628771           0  \n",
       "4       11.558279        31.997993   4.075075           0  "
      ]
     },
     "execution_count": 3,
     "metadata": {},
     "output_type": "execute_result"
    }
   ],
   "source": [
    "data.head()"
   ]
  },
  {
   "cell_type": "code",
   "execution_count": 4,
   "metadata": {},
   "outputs": [
    {
     "data": {
      "text/plain": [
       "ph                 float64\n",
       "Hardness           float64\n",
       "Solids             float64\n",
       "Chloramines        float64\n",
       "Sulfate            float64\n",
       "Conductivity       float64\n",
       "Organic_carbon     float64\n",
       "Trihalomethanes    float64\n",
       "Turbidity          float64\n",
       "Potability           int64\n",
       "dtype: object"
      ]
     },
     "execution_count": 4,
     "metadata": {},
     "output_type": "execute_result"
    }
   ],
   "source": [
    "data.dtypes"
   ]
  },
  {
   "cell_type": "code",
   "execution_count": 5,
   "metadata": {},
   "outputs": [
    {
     "data": {
      "text/html": [
       "<div>\n",
       "<style scoped>\n",
       "    .dataframe tbody tr th:only-of-type {\n",
       "        vertical-align: middle;\n",
       "    }\n",
       "\n",
       "    .dataframe tbody tr th {\n",
       "        vertical-align: top;\n",
       "    }\n",
       "\n",
       "    .dataframe thead th {\n",
       "        text-align: right;\n",
       "    }\n",
       "</style>\n",
       "<table border=\"1\" class=\"dataframe\">\n",
       "  <thead>\n",
       "    <tr style=\"text-align: right;\">\n",
       "      <th></th>\n",
       "      <th>ph</th>\n",
       "      <th>Hardness</th>\n",
       "      <th>Solids</th>\n",
       "      <th>Chloramines</th>\n",
       "      <th>Sulfate</th>\n",
       "      <th>Conductivity</th>\n",
       "      <th>Organic_carbon</th>\n",
       "      <th>Trihalomethanes</th>\n",
       "      <th>Turbidity</th>\n",
       "      <th>Potability</th>\n",
       "    </tr>\n",
       "  </thead>\n",
       "  <tbody>\n",
       "    <tr>\n",
       "      <th>count</th>\n",
       "      <td>2785.000000</td>\n",
       "      <td>3276.000000</td>\n",
       "      <td>3276.000000</td>\n",
       "      <td>3276.000000</td>\n",
       "      <td>2495.000000</td>\n",
       "      <td>3276.000000</td>\n",
       "      <td>3276.000000</td>\n",
       "      <td>3114.000000</td>\n",
       "      <td>3276.000000</td>\n",
       "      <td>3276.000000</td>\n",
       "    </tr>\n",
       "    <tr>\n",
       "      <th>mean</th>\n",
       "      <td>7.080795</td>\n",
       "      <td>196.369496</td>\n",
       "      <td>22014.092526</td>\n",
       "      <td>7.122277</td>\n",
       "      <td>333.775777</td>\n",
       "      <td>426.205111</td>\n",
       "      <td>14.284970</td>\n",
       "      <td>66.396293</td>\n",
       "      <td>3.966786</td>\n",
       "      <td>0.390110</td>\n",
       "    </tr>\n",
       "    <tr>\n",
       "      <th>std</th>\n",
       "      <td>1.594320</td>\n",
       "      <td>32.879761</td>\n",
       "      <td>8768.570828</td>\n",
       "      <td>1.583085</td>\n",
       "      <td>41.416840</td>\n",
       "      <td>80.824064</td>\n",
       "      <td>3.308162</td>\n",
       "      <td>16.175008</td>\n",
       "      <td>0.780382</td>\n",
       "      <td>0.487849</td>\n",
       "    </tr>\n",
       "    <tr>\n",
       "      <th>min</th>\n",
       "      <td>0.000000</td>\n",
       "      <td>47.432000</td>\n",
       "      <td>320.942611</td>\n",
       "      <td>0.352000</td>\n",
       "      <td>129.000000</td>\n",
       "      <td>181.483754</td>\n",
       "      <td>2.200000</td>\n",
       "      <td>0.738000</td>\n",
       "      <td>1.450000</td>\n",
       "      <td>0.000000</td>\n",
       "    </tr>\n",
       "    <tr>\n",
       "      <th>25%</th>\n",
       "      <td>6.093092</td>\n",
       "      <td>176.850538</td>\n",
       "      <td>15666.690297</td>\n",
       "      <td>6.127421</td>\n",
       "      <td>307.699498</td>\n",
       "      <td>365.734414</td>\n",
       "      <td>12.065801</td>\n",
       "      <td>55.844536</td>\n",
       "      <td>3.439711</td>\n",
       "      <td>0.000000</td>\n",
       "    </tr>\n",
       "    <tr>\n",
       "      <th>50%</th>\n",
       "      <td>7.036752</td>\n",
       "      <td>196.967627</td>\n",
       "      <td>20927.833607</td>\n",
       "      <td>7.130299</td>\n",
       "      <td>333.073546</td>\n",
       "      <td>421.884968</td>\n",
       "      <td>14.218338</td>\n",
       "      <td>66.622485</td>\n",
       "      <td>3.955028</td>\n",
       "      <td>0.000000</td>\n",
       "    </tr>\n",
       "    <tr>\n",
       "      <th>75%</th>\n",
       "      <td>8.062066</td>\n",
       "      <td>216.667456</td>\n",
       "      <td>27332.762127</td>\n",
       "      <td>8.114887</td>\n",
       "      <td>359.950170</td>\n",
       "      <td>481.792304</td>\n",
       "      <td>16.557652</td>\n",
       "      <td>77.337473</td>\n",
       "      <td>4.500320</td>\n",
       "      <td>1.000000</td>\n",
       "    </tr>\n",
       "    <tr>\n",
       "      <th>max</th>\n",
       "      <td>14.000000</td>\n",
       "      <td>323.124000</td>\n",
       "      <td>61227.196008</td>\n",
       "      <td>13.127000</td>\n",
       "      <td>481.030642</td>\n",
       "      <td>753.342620</td>\n",
       "      <td>28.300000</td>\n",
       "      <td>124.000000</td>\n",
       "      <td>6.739000</td>\n",
       "      <td>1.000000</td>\n",
       "    </tr>\n",
       "  </tbody>\n",
       "</table>\n",
       "</div>"
      ],
      "text/plain": [
       "                ph     Hardness        Solids  Chloramines      Sulfate  \\\n",
       "count  2785.000000  3276.000000   3276.000000  3276.000000  2495.000000   \n",
       "mean      7.080795   196.369496  22014.092526     7.122277   333.775777   \n",
       "std       1.594320    32.879761   8768.570828     1.583085    41.416840   \n",
       "min       0.000000    47.432000    320.942611     0.352000   129.000000   \n",
       "25%       6.093092   176.850538  15666.690297     6.127421   307.699498   \n",
       "50%       7.036752   196.967627  20927.833607     7.130299   333.073546   \n",
       "75%       8.062066   216.667456  27332.762127     8.114887   359.950170   \n",
       "max      14.000000   323.124000  61227.196008    13.127000   481.030642   \n",
       "\n",
       "       Conductivity  Organic_carbon  Trihalomethanes    Turbidity   Potability  \n",
       "count   3276.000000     3276.000000      3114.000000  3276.000000  3276.000000  \n",
       "mean     426.205111       14.284970        66.396293     3.966786     0.390110  \n",
       "std       80.824064        3.308162        16.175008     0.780382     0.487849  \n",
       "min      181.483754        2.200000         0.738000     1.450000     0.000000  \n",
       "25%      365.734414       12.065801        55.844536     3.439711     0.000000  \n",
       "50%      421.884968       14.218338        66.622485     3.955028     0.000000  \n",
       "75%      481.792304       16.557652        77.337473     4.500320     1.000000  \n",
       "max      753.342620       28.300000       124.000000     6.739000     1.000000  "
      ]
     },
     "execution_count": 5,
     "metadata": {},
     "output_type": "execute_result"
    }
   ],
   "source": [
    "data.describe()"
   ]
  },
  {
   "cell_type": "code",
   "execution_count": 6,
   "metadata": {},
   "outputs": [
    {
     "data": {
      "text/plain": [
       "Potability\n",
       "0    1998\n",
       "1    1278\n",
       "Name: Potability, dtype: int64"
      ]
     },
     "execution_count": 6,
     "metadata": {},
     "output_type": "execute_result"
    }
   ],
   "source": [
    "data.groupby('Potability')['Potability'].count()"
   ]
  },
  {
   "cell_type": "code",
   "execution_count": 7,
   "metadata": {
    "scrolled": true
   },
   "outputs": [
    {
     "data": {
      "text/plain": [
       "ph                 17.630162\n",
       "Hardness            0.000000\n",
       "Solids              0.000000\n",
       "Chloramines         0.000000\n",
       "Sulfate            31.302605\n",
       "Conductivity        0.000000\n",
       "Organic_carbon      0.000000\n",
       "Trihalomethanes     5.202312\n",
       "Turbidity           0.000000\n",
       "Potability          0.000000\n",
       "dtype: float64"
      ]
     },
     "execution_count": 7,
     "metadata": {},
     "output_type": "execute_result"
    }
   ],
   "source": [
    "(data.isnull().sum()/data.count())*100 "
   ]
  },
  {
   "cell_type": "code",
   "execution_count": 8,
   "metadata": {},
   "outputs": [
    {
     "data": {
      "text/plain": [
       "<matplotlib.axes._subplots.AxesSubplot at 0x1e7cf928be0>"
      ]
     },
     "execution_count": 8,
     "metadata": {},
     "output_type": "execute_result"
    },
    {
     "data": {
      "image/png": "[encoded data removed]",
      "text/plain": [
       "<Figure size 432x288 with 1 Axes>"
      ]
     },
     "metadata": {
      "needs_background": "light"
     },
     "output_type": "display_data"
    }
   ],
   "source": [
    "sns.distplot(data['ph'])"
   ]
  },
  {
   "cell_type": "code",
   "execution_count": 9,
   "metadata": {},
   "outputs": [
    {
     "data": {
      "text/plain": [
       "<matplotlib.axes._subplots.AxesSubplot at 0x1e7d0089b80>"
      ]
     },
     "execution_count": 9,
     "metadata": {},
     "output_type": "execute_result"
    },
    {
     "data": {
      "image/png": "[encoded data removed]",
      "text/plain": [
       "<Figure size 432x288 with 1 Axes>"
      ]
     },
     "metadata": {
      "needs_background": "light"
     },
     "output_type": "display_data"
    }
   ],
   "source": [
    "sns.distplot(data['Sulfate'])"
   ]
  },
  {
   "cell_type": "code",
   "execution_count": 10,
   "metadata": {},
   "outputs": [
    {
     "data": {
      "text/plain": [
       "<matplotlib.axes._subplots.AxesSubplot at 0x1e7d021a700>"
      ]
     },
     "execution_count": 10,
     "metadata": {},
     "output_type": "execute_result"
    },
    {
     "data": {
      "image/png": "[encoded data removed]",
      "text/plain": [
       "<Figure size 432x288 with 1 Axes>"
      ]
     },
     "metadata": {
      "needs_background": "light"
     },
     "output_type": "display_data"
    }
   ],
   "source": [
    "sns.distplot(data['Trihalomethanes'])"
   ]
  },
  {
   "cell_type": "code",
   "execution_count": 11,
   "metadata": {},
   "outputs": [],
   "source": [
    "# By the above plots we can observe negligible outliers in the plots. So we can fill the null values with the mean value\n",
    "data['ph'] = data['ph'].fillna(data['ph'].mean())\n",
    "data['Sulfate'] = data['Sulfate'].fillna(data['Sulfate'].mean())\n",
    "data['Trihalomethanes'] = data['Trihalomethanes'].fillna(data['Trihalomethanes'].mean())"
   ]
  },
  {
   "cell_type": "code",
   "execution_count": 12,
   "metadata": {},
   "outputs": [
    {
     "data": {
      "text/plain": [
       "<matplotlib.axes._subplots.AxesSubplot at 0x1e7d02bd3a0>"
      ]
     },
     "execution_count": 12,
     "metadata": {},
     "output_type": "execute_result"
    },
    {
     "data": {
      "image/png": "[encoded data removed]",
      "text/plain": [
       "<Figure size 720x576 with 2 Axes>"
      ]
     },
     "metadata": {
      "needs_background": "light"
     },
     "output_type": "display_data"
    }
   ],
   "source": [
    "plt.figure(figsize=(10,8))\n",
    "sns.heatmap(data.drop(columns='Potability').corr(),cmap='coolwarm',annot=True)"
   ]
  },
  {
   "cell_type": "code",
   "execution_count": 13,
   "metadata": {},
   "outputs": [],
   "source": [
    "x = data.drop(columns=['Potability'])\n",
    "y = data['Potability']\n",
    "\n",
    "x_train,x_test,y_train,y_test = train_test_split(x,y,test_size = 0.3)"
   ]
  },
  {
   "cell_type": "code",
   "execution_count": 14,
   "metadata": {},
   "outputs": [],
   "source": [
    "params = {'criterion':['gini','entropy'],\n",
    "          'min_samples_split': list(range(2,50))\n",
    "         }"
   ]
  },
  {
   "cell_type": "code",
   "execution_count": 15,
   "metadata": {},
   "outputs": [],
   "source": [
    "# tree = DecisionTreeClassifier(random_state=15)\n",
    "# clf = GridSearchCV(tree,params,cv = 10, scoring='accuracy')\n",
    "# clf.fit(x_train,y_train)\n",
    "# print(clf.best_params_)\n",
    "# print(clf.best_score_)"
   ]
  },
  {
   "cell_type": "code",
   "execution_count": 16,
   "metadata": {},
   "outputs": [
    {
     "name": "stdout",
     "output_type": "stream",
     "text": [
      "Training score : 0.8037505451373747\n",
      "Test accuracy : 0.5879959308240081\n"
     ]
    }
   ],
   "source": [
    "tree = DecisionTreeClassifier(random_state=15,criterion='gini',min_samples_split=30)\n",
    "tree.fit(x_train,y_train)\n",
    "print('Training score :',tree.score(x_train,y_train))\n",
    "print(\"Test accuracy :\",tree.score(x_test,y_test))"
   ]
  },
  {
   "cell_type": "markdown",
   "metadata": {},
   "source": [
    "#### Performance evaluation"
   ]
  },
  {
   "cell_type": "code",
   "execution_count": 17,
   "metadata": {},
   "outputs": [],
   "source": [
    "y_predicted_dt = tree.predict(x_test)\n",
    "y_probabilty_dt = tree.predict_proba(x_test)[:,1]"
   ]
  },
  {
   "cell_type": "code",
   "execution_count": 18,
   "metadata": {},
   "outputs": [
    {
     "name": "stdout",
     "output_type": "stream",
     "text": [
      "              precision    recall  f1-score   support\n",
      "\n",
      "           0       0.69      0.64      0.66       618\n",
      "           1       0.45      0.51      0.48       365\n",
      "\n",
      "    accuracy                           0.59       983\n",
      "   macro avg       0.57      0.57      0.57       983\n",
      "weighted avg       0.60      0.59      0.59       983\n",
      "\n"
     ]
    }
   ],
   "source": [
    "print(classification_report(y_test,y_predicted_dt))"
   ]
  },
  {
   "cell_type": "code",
   "execution_count": 19,
   "metadata": {},
   "outputs": [
    {
     "data": {
      "text/plain": [
       "Text(33.0, 0.5, 'Actual')"
      ]
     },
     "execution_count": 19,
     "metadata": {},
     "output_type": "execute_result"
    },
    {
     "data": {
      "image/png": "[encoded data removed]",
      "text/plain": [
       "<Figure size 432x288 with 2 Axes>"
      ]
     },
     "metadata": {
      "needs_background": "light"
     },
     "output_type": "display_data"
    }
   ],
   "source": [
    "sns.heatmap(confusion_matrix(y_test,y_predicted_dt),cmap=\"coolwarm\",annot=True,fmt='.0f')\n",
    "plt.xlabel('Predicted')\n",
    "plt.ylabel('Actual')"
   ]
  },
  {
   "cell_type": "code",
   "execution_count": 20,
   "metadata": {},
   "outputs": [
    {
     "name": "stdout",
     "output_type": "stream",
     "text": [
      "Model accuracy : 0.5879959308240081\n"
     ]
    }
   ],
   "source": [
    "print('Model accuracy :',accuracy_score(y_test,y_predicted_dt))"
   ]
  },
  {
   "cell_type": "code",
   "execution_count": 21,
   "metadata": {},
   "outputs": [],
   "source": [
    "fpr_dt,tpr_dt,threshold_dt = roc_curve(y_test,y_probabilty_dt)\n",
    "roc_auc_val_dt = auc(fpr_dt,tpr_dt)"
   ]
  },
  {
   "cell_type": "code",
   "execution_count": 22,
   "metadata": {},
   "outputs": [
    {
     "data": {
      "image/png": "[encoded data removed]",
      "text/plain": [
       "<Figure size 432x288 with 1 Axes>"
      ]
     },
     "metadata": {
      "needs_background": "light"
     },
     "output_type": "display_data"
    }
   ],
   "source": [
    "plt.figure(1)\n",
    "lw = 2\n",
    "plt.plot(fpr_dt, tpr_dt, color='green',\n",
    "         lw=lw, label='Decision Tree(AUC = %0.2f)' % roc_auc_val_dt)\n",
    "plt.plot([0, 1], [0, 1], color='navy', lw=lw, linestyle='--')\n",
    "\n",
    "plt.xlim([0.0, 1.0])\n",
    "plt.ylim([0.0, 1.05])\n",
    "plt.xlabel('False Positive Rate')\n",
    "plt.ylabel('True Positive Rate')\n",
    "plt.title('Area Under Curve')\n",
    "plt.legend(loc=\"lower right\")\n",
    "plt.show()"
   ]
  },
  {
   "cell_type": "markdown",
   "metadata": {},
   "source": [
    "### Random Forest"
   ]
  },
  {
   "cell_type": "code",
   "execution_count": 23,
   "metadata": {},
   "outputs": [],
   "source": [
    "from sklearn.ensemble import RandomForestClassifier"
   ]
  },
  {
   "cell_type": "code",
   "execution_count": 24,
   "metadata": {},
   "outputs": [],
   "source": [
    " param_dist = {\n",
    "                'max_depth': [2, 3, 4,5,6],\n",
    "              'bootstrap': [True, False],\n",
    "              'criterion': ['gini', 'entropy'],\n",
    "#               'n_estimators' :[300,350,400,450,500,550,600,650,700,750,800,850,900]\n",
    "              'min_samples_split' : list(range(2,50,2))\n",
    "             }"
   ]
  },
  {
   "cell_type": "code",
   "execution_count": 25,
   "metadata": {},
   "outputs": [],
   "source": [
    "random_forest = RandomForestClassifier(random_state=15)\n",
    "# gcv = GridSearchCV(random_forest,param_grid=param_dist,cv=10)\n",
    "# gcv.fit(x_train,y_train)"
   ]
  },
  {
   "cell_type": "code",
   "execution_count": 26,
   "metadata": {},
   "outputs": [],
   "source": [
    "# print('Best parameteres :',gcv.best_params_)\n",
    "# print('Best Score :',gcv.best_score_)"
   ]
  },
  {
   "cell_type": "markdown",
   "metadata": {},
   "source": [
    "### OOB Rate"
   ]
  },
  {
   "cell_type": "code",
   "execution_count": 27,
   "metadata": {},
   "outputs": [],
   "source": [
    "# random_forest.set_params(warm_start=True,oob_score=True)\n",
    "\n",
    "# error_rate = {}\n",
    "# for i in range(15,1001):\n",
    "#     random_forest.set_params(n_estimators=i)\n",
    "#     random_forest.fit(x_train,y_train)\n",
    "#     oob_error = 1-random_forest.oob_score_\n",
    "#     error_rate[i]=oob_error"
   ]
  },
  {
   "cell_type": "code",
   "execution_count": 28,
   "metadata": {
    "scrolled": true
   },
   "outputs": [],
   "source": [
    "# oob_series = pd.Series(error_rate)"
   ]
  },
  {
   "cell_type": "code",
   "execution_count": 29,
   "metadata": {},
   "outputs": [],
   "source": [
    "# fig, ax = plt.subplots(figsize=(10, 10))\n",
    "\n",
    "# ax.set_facecolor('#fafafa')\n",
    "\n",
    "# oob_series.plot(kind='line',color = 'red')\n",
    "# # plt.axhline(0.055, color='#875FDB',linestyle='--')\n",
    "# # plt.axhline(0.05, color='#875FDB',linestyle='--')\n",
    "# plt.xlabel('n_estimators')\n",
    "# plt.ylabel('OOB Error Rate')\n",
    "# plt.title('OOB Error Rate Across various Forest sizes \\n(From 15 to 1000 trees)')"
   ]
  },
  {
   "cell_type": "code",
   "execution_count": 30,
   "metadata": {},
   "outputs": [],
   "source": [
    "# As per OOB Plot we can see that after n = 300 the plot seems constant so we will use n = 300"
   ]
  },
  {
   "cell_type": "code",
   "execution_count": 31,
   "metadata": {},
   "outputs": [
    {
     "data": {
      "text/plain": [
       "RandomForestClassifier(bootstrap=False, max_depth=6, n_estimators=300,\n",
       "                       random_state=15)"
      ]
     },
     "execution_count": 31,
     "metadata": {},
     "output_type": "execute_result"
    }
   ],
   "source": [
    "random_forest = RandomForestClassifier(max_depth = 6,bootstrap=False,criterion='gini', random_state=15,n_estimators=300)\n",
    "random_forest.fit(x_train,y_train)\n"
   ]
  },
  {
   "cell_type": "code",
   "execution_count": 32,
   "metadata": {},
   "outputs": [],
   "source": [
    "y_predicted_rf = random_forest.predict(x_test)\n",
    "y_Proba_rf = random_forest.predict_proba(x_test)[:,1]"
   ]
  },
  {
   "cell_type": "code",
   "execution_count": 33,
   "metadata": {},
   "outputs": [
    {
     "data": {
      "text/plain": [
       "0.6551373346897253"
      ]
     },
     "execution_count": 33,
     "metadata": {},
     "output_type": "execute_result"
    }
   ],
   "source": [
    "accuracy_score(y_test,y_predicted_rf)"
   ]
  },
  {
   "cell_type": "code",
   "execution_count": 34,
   "metadata": {},
   "outputs": [],
   "source": [
    "\n",
    "fpr_rf,tpr_rf,threshold_rf = roc_curve(y_test,y_Proba_rf)\n",
    "roc_auc_val_rf = auc(fpr_rf,tpr_rf)"
   ]
  },
  {
   "cell_type": "code",
   "execution_count": 35,
   "metadata": {},
   "outputs": [
    {
     "data": {
      "text/plain": [
       "0.6428580928314935"
      ]
     },
     "execution_count": 35,
     "metadata": {},
     "output_type": "execute_result"
    }
   ],
   "source": [
    "roc_auc_val_rf"
   ]
  },
  {
   "cell_type": "code",
   "execution_count": 36,
   "metadata": {},
   "outputs": [
    {
     "name": "stdout",
     "output_type": "stream",
     "text": [
      "              precision    recall  f1-score   support\n",
      "\n",
      "           0       0.66      0.93      0.77       618\n",
      "           1       0.62      0.19      0.29       365\n",
      "\n",
      "    accuracy                           0.66       983\n",
      "   macro avg       0.64      0.56      0.53       983\n",
      "weighted avg       0.64      0.66      0.59       983\n",
      "\n"
     ]
    }
   ],
   "source": [
    "print(classification_report(y_test,y_predicted_rf))"
   ]
  },
  {
   "cell_type": "code",
   "execution_count": 37,
   "metadata": {},
   "outputs": [
    {
     "data": {
      "text/plain": [
       "Text(33.0, 0.5, 'Actual')"
      ]
     },
     "execution_count": 37,
     "metadata": {},
     "output_type": "execute_result"
    },
    {
     "data": {
      "image/png": "[encoded data removed]",
      "text/plain": [
       "<Figure size 432x288 with 2 Axes>"
      ]
     },
     "metadata": {
      "needs_background": "light"
     },
     "output_type": "display_data"
    }
   ],
   "source": [
    "sns.heatmap(confusion_matrix(y_test,y_predicted_rf),cmap=\"coolwarm\",annot=True,fmt='.0f')\n",
    "plt.xlabel('Predicted')\n",
    "plt.ylabel('Actual')"
   ]
  },
  {
   "cell_type": "code",
   "execution_count": 38,
   "metadata": {},
   "outputs": [
    {
     "data": {
      "image/png": "[encoded data removed]",
      "text/plain": [
       "<Figure size 432x288 with 1 Axes>"
      ]
     },
     "metadata": {
      "needs_background": "light"
     },
     "output_type": "display_data"
    }
   ],
   "source": [
    "plt.figure(1)\n",
    "lw = 2\n",
    "plt.plot(fpr_dt, tpr_dt, color='green',\n",
    "         lw=lw, label='Decision Tree(AUC = %0.2f)' % roc_auc_val_dt)\n",
    "plt.plot(fpr_rf, tpr_rf, color='blue',\n",
    "         lw=lw, label='Random Forest(AUC = %0.2f)' % roc_auc_val_rf)\n",
    "plt.plot([0, 1], [0, 1], color='navy', lw=lw, linestyle='--')\n",
    "\n",
    "plt.xlim([0.0, 1.0])\n",
    "plt.ylim([0.0, 1.05])\n",
    "plt.xlabel('False Positive Rate')\n",
    "plt.ylabel('True Positive Rate')\n",
    "plt.title('Area Under Curve')\n",
    "plt.legend(loc=\"lower right\")\n",
    "plt.show()"
   ]
  },
  {
   "cell_type": "markdown",
   "metadata": {},
   "source": [
    "## Logistic Regression"
   ]
  },
  {
   "cell_type": "code",
   "execution_count": 39,
   "metadata": {},
   "outputs": [],
   "source": [
    "from sklearn.linear_model import LogisticRegression"
   ]
  },
  {
   "cell_type": "code",
   "execution_count": 40,
   "metadata": {},
   "outputs": [
    {
     "data": {
      "text/plain": [
       "LogisticRegression()"
      ]
     },
     "execution_count": 40,
     "metadata": {},
     "output_type": "execute_result"
    }
   ],
   "source": [
    "Log_regression = LogisticRegression()\n",
    "Log_regression.fit(x_train,y_train)"
   ]
  },
  {
   "cell_type": "code",
   "execution_count": 41,
   "metadata": {},
   "outputs": [],
   "source": [
    "y_predicted_lr = Log_regression.predict(x_test)\n",
    "y_prob_lr = Log_regression.predict_proba(x_test)[:,1]"
   ]
  },
  {
   "cell_type": "code",
   "execution_count": 42,
   "metadata": {},
   "outputs": [
    {
     "data": {
      "text/plain": [
       "0.6286876907426246"
      ]
     },
     "execution_count": 42,
     "metadata": {},
     "output_type": "execute_result"
    }
   ],
   "source": [
    "accuracy_score(y_test,y_predicted_lr)"
   ]
  },
  {
   "cell_type": "code",
   "execution_count": 43,
   "metadata": {},
   "outputs": [
    {
     "name": "stdout",
     "output_type": "stream",
     "text": [
      "              precision    recall  f1-score   support\n",
      "\n",
      "           0       0.63      1.00      0.77       618\n",
      "           1       0.00      0.00      0.00       365\n",
      "\n",
      "    accuracy                           0.63       983\n",
      "   macro avg       0.31      0.50      0.39       983\n",
      "weighted avg       0.40      0.63      0.49       983\n",
      "\n"
     ]
    },
    {
     "name": "stderr",
     "output_type": "stream",
     "text": [
      "C:\\ProgramData\\Anaconda3\\lib\\site-packages\\sklearn\\metrics\\_classification.py:1221: UndefinedMetricWarning: Precision and F-score are ill-defined and being set to 0.0 in labels with no predicted samples. Use `zero_division` parameter to control this behavior.\n",
      "  _warn_prf(average, modifier, msg_start, len(result))\n"
     ]
    }
   ],
   "source": [
    "print(classification_report(y_test,y_predicted_lr))"
   ]
  },
  {
   "cell_type": "code",
   "execution_count": 44,
   "metadata": {},
   "outputs": [
    {
     "data": {
      "text/plain": [
       "Text(33.0, 0.5, 'Actual')"
      ]
     },
     "execution_count": 44,
     "metadata": {},
     "output_type": "execute_result"
    },
    {
     "data": {
      "image/png": "[encoded data removed]",
      "text/plain": [
       "<Figure size 432x288 with 2 Axes>"
      ]
     },
     "metadata": {
      "needs_background": "light"
     },
     "output_type": "display_data"
    }
   ],
   "source": [
    "sns.heatmap(confusion_matrix(y_test,y_predicted_lr),cmap=\"coolwarm\",annot=True,fmt='.0f')\n",
    "plt.xlabel('Predicted')\n",
    "plt.ylabel('Actual')"
   ]
  },
  {
   "cell_type": "code",
   "execution_count": 45,
   "metadata": {},
   "outputs": [
    {
     "data": {
      "text/plain": [
       "0.5051159285365963"
      ]
     },
     "execution_count": 45,
     "metadata": {},
     "output_type": "execute_result"
    }
   ],
   "source": [
    "fpr_lr,tpr_lr,Threshold_lr = roc_curve(y_test,y_prob_lr)\n",
    "auc_dt_lr = auc(fpr_lr,tpr_lr)\n",
    "auc_dt_lr"
   ]
  },
  {
   "cell_type": "code",
   "execution_count": 46,
   "metadata": {},
   "outputs": [
    {
     "data": {
      "image/png": "[encoded data removed]",
      "text/plain": [
       "<Figure size 432x288 with 1 Axes>"
      ]
     },
     "metadata": {
      "needs_background": "light"
     },
     "output_type": "display_data"
    }
   ],
   "source": [
    "plt.figure(1)\n",
    "lw = 2\n",
    "plt.plot(fpr_dt, tpr_dt, color='green',\n",
    "         lw=lw, label='Decision Tree(AUC = %0.2f)' % roc_auc_val_dt)\n",
    "plt.plot(fpr_rf, tpr_rf, color='blue',\n",
    "         lw=lw, label='Random Forest(AUC = %0.2f)' % roc_auc_val_rf)\n",
    "plt.plot(fpr_lr, tpr_lr, color='red',\n",
    "         lw=lw, label='Logistic Regression(AUC = %0.2f)' % auc_dt_lr)\n",
    "plt.plot([0, 1], [0, 1], color='navy', lw=lw, linestyle='--')\n",
    "\n",
    "plt.xlim([0.0, 1.0])\n",
    "plt.ylim([0.0, 1.05])\n",
    "plt.xlabel('False Positive Rate')\n",
    "plt.ylabel('True Positive Rate')\n",
    "plt.title('Area Under Curve')\n",
    "plt.legend(loc=\"lower right\")\n",
    "plt.show()"
   ]
  },
  {
   "cell_type": "markdown",
   "metadata": {},
   "source": [
    "## K-Nearest Neighbors"
   ]
  },
  {
   "cell_type": "code",
   "execution_count": 47,
   "metadata": {},
   "outputs": [],
   "source": [
    "from sklearn.neighbors import KNeighborsClassifier\n",
    "from sklearn.preprocessing import StandardScaler"
   ]
  },
  {
   "cell_type": "code",
   "execution_count": 48,
   "metadata": {},
   "outputs": [],
   "source": [
    "sc = StandardScaler()\n",
    "x_train_std = sc.fit_transform(x_train)\n",
    "x_test_std = sc.fit_transform(x_test)"
   ]
  },
  {
   "cell_type": "code",
   "execution_count": 49,
   "metadata": {},
   "outputs": [],
   "source": [
    "# Finding out optimum value of N_neighbor\n",
    "\n",
    "error = []\n",
    "\n",
    "for i in range(1,40):\n",
    "    KNN = KNeighborsClassifier(n_neighbors=i)\n",
    "    KNN.fit(x_train_std,y_train)\n",
    "    pred_i = KNN.predict(x_test_std)\n",
    "    error.append(np.mean(pred_i!=y_test))"
   ]
  },
  {
   "cell_type": "code",
   "execution_count": 50,
   "metadata": {},
   "outputs": [
    {
     "data": {
      "text/plain": [
       "[<matplotlib.lines.Line2D at 0x1e7d1901070>]"
      ]
     },
     "execution_count": 50,
     "metadata": {},
     "output_type": "execute_result"
    },
    {
     "data": {
      "image/png": "[encoded data removed]",
      "text/plain": [
       "<Figure size 720x432 with 1 Axes>"
      ]
     },
     "metadata": {
      "needs_background": "light"
     },
     "output_type": "display_data"
    }
   ],
   "source": [
    "plt.figure(figsize=(10,6))\n",
    "plt.plot(range(1,40),error,marker='o')"
   ]
  },
  {
   "cell_type": "code",
   "execution_count": 51,
   "metadata": {},
   "outputs": [
    {
     "data": {
      "text/plain": [
       "KNeighborsClassifier(n_neighbors=18)"
      ]
     },
     "execution_count": 51,
     "metadata": {},
     "output_type": "execute_result"
    }
   ],
   "source": [
    "KNN.set_params(n_neighbors=18)"
   ]
  },
  {
   "cell_type": "code",
   "execution_count": 52,
   "metadata": {},
   "outputs": [
    {
     "data": {
      "text/plain": [
       "KNeighborsClassifier(n_neighbors=18)"
      ]
     },
     "execution_count": 52,
     "metadata": {},
     "output_type": "execute_result"
    }
   ],
   "source": [
    "KNN.fit(x_train_std,y_train)"
   ]
  },
  {
   "cell_type": "code",
   "execution_count": 53,
   "metadata": {},
   "outputs": [],
   "source": [
    "y_pred_KNN = KNN.predict(x_test_std)\n",
    "y_prob_KNN = KNN.predict_proba(x_test_std)[:,1]"
   ]
  },
  {
   "cell_type": "code",
   "execution_count": 54,
   "metadata": {},
   "outputs": [
    {
     "data": {
      "text/plain": [
       "0.6663275686673449"
      ]
     },
     "execution_count": 54,
     "metadata": {},
     "output_type": "execute_result"
    }
   ],
   "source": [
    "accuracy_score(y_test,y_pred_KNN)"
   ]
  },
  {
   "cell_type": "code",
   "execution_count": 55,
   "metadata": {},
   "outputs": [
    {
     "name": "stdout",
     "output_type": "stream",
     "text": [
      "              precision    recall  f1-score   support\n",
      "\n",
      "           0       0.67      0.93      0.78       618\n",
      "           1       0.65      0.22      0.33       365\n",
      "\n",
      "    accuracy                           0.67       983\n",
      "   macro avg       0.66      0.57      0.55       983\n",
      "weighted avg       0.66      0.67      0.61       983\n",
      "\n"
     ]
    }
   ],
   "source": [
    "print(classification_report(y_test,y_pred_KNN))"
   ]
  },
  {
   "cell_type": "code",
   "execution_count": 56,
   "metadata": {},
   "outputs": [
    {
     "data": {
      "text/plain": [
       "<matplotlib.axes._subplots.AxesSubplot at 0x1e7d191c460>"
      ]
     },
     "execution_count": 56,
     "metadata": {},
     "output_type": "execute_result"
    },
    {
     "data": {
      "image/png": "[encoded data removed]",
      "text/plain": [
       "<Figure size 432x288 with 2 Axes>"
      ]
     },
     "metadata": {
      "needs_background": "light"
     },
     "output_type": "display_data"
    }
   ],
   "source": [
    "sns.heatmap(confusion_matrix(y_test,y_pred_KNN),annot=True,cmap='coolwarm',fmt='.0f')"
   ]
  },
  {
   "cell_type": "code",
   "execution_count": 57,
   "metadata": {},
   "outputs": [
    {
     "data": {
      "text/plain": [
       "0.6511171698364144"
      ]
     },
     "execution_count": 57,
     "metadata": {},
     "output_type": "execute_result"
    }
   ],
   "source": [
    "fpr_knn,tpr_knn,threshold_knn = roc_curve(y_test,y_prob_KNN)\n",
    "roc_auc_KNN = auc(fpr_knn,tpr_knn)\n",
    "roc_auc_KNN"
   ]
  },
  {
   "cell_type": "code",
   "execution_count": 58,
   "metadata": {},
   "outputs": [
    {
     "data": {
      "image/png": "[encoded data removed]",
      "text/plain": [
       "<Figure size 432x288 with 1 Axes>"
      ]
     },
     "metadata": {
      "needs_background": "light"
     },
     "output_type": "display_data"
    }
   ],
   "source": [
    "plt.figure(1)\n",
    "lw = 2\n",
    "plt.plot(fpr_dt, tpr_dt, color='green',\n",
    "         lw=lw, label='Decision Tree(AUC = %0.2f)' % roc_auc_val_dt)\n",
    "plt.plot(fpr_rf, tpr_rf, color='blue',\n",
    "         lw=lw, label='Random Forest(AUC = %0.2f)' % roc_auc_val_rf)\n",
    "plt.plot(fpr_lr, tpr_lr, color='red',\n",
    "         lw=lw, label='Logistic Regression(AUC = %0.2f)' % auc_dt_lr)\n",
    "plt.plot(fpr_knn, tpr_knn, color='black',\n",
    "         lw=lw, label='KNN(AUC = %0.2f)' % roc_auc_KNN)\n",
    "\n",
    "plt.plot([0, 1], [0, 1], color='navy', lw=lw, linestyle='--')\n",
    "\n",
    "plt.xlim([0.0, 1.0])\n",
    "plt.ylim([0.0, 1.05])\n",
    "plt.xlabel('False Positive Rate')\n",
    "plt.ylabel('True Positive Rate')\n",
    "plt.title('Area Under Curve')\n",
    "plt.legend(loc=\"lower right\")\n",
    "plt.show()"
   ]
  },
  {
   "cell_type": "markdown",
   "metadata": {},
   "source": [
    "## Support Vector Machine (SVM)"
   ]
  },
  {
   "cell_type": "code",
   "execution_count": 59,
   "metadata": {},
   "outputs": [],
   "source": [
    "from sklearn.svm import SVC"
   ]
  },
  {
   "cell_type": "code",
   "execution_count": null,
   "metadata": {},
   "outputs": [],
   "source": []
  },
  {
   "cell_type": "code",
   "execution_count": 60,
   "metadata": {},
   "outputs": [
    {
     "name": "stdout",
     "output_type": "stream",
     "text": [
      "Training score : 0.6018316615787178\n",
      "Test accuracy : 0.6286876907426246\n"
     ]
    }
   ],
   "source": [
    "svm = SVC(C=0.01,kernel='rbf',gamma=0.01,random_state=42)\n",
    "svm.fit(x_train_std,y_train)\n",
    "print('Training score :',svm.score(x_train_std,y_train))\n",
    "print(\"Test accuracy :\",svm.score(x_test,y_test))"
   ]
  },
  {
   "cell_type": "code",
   "execution_count": 61,
   "metadata": {},
   "outputs": [
    {
     "name": "stdout",
     "output_type": "stream",
     "text": [
      "Training score : 0.6153510684692542\n",
      "Test accuracy : 0.6286876907426246\n"
     ]
    }
   ],
   "source": [
    "svm = SVC(C=0.1,kernel='rbf',gamma=0.1,random_state=42)\n",
    "svm.fit(x_train_std,y_train)\n",
    "print('Training score :',svm.score(x_train_std,y_train))\n",
    "print(\"Test accuracy :\",svm.score(x_test,y_test))"
   ]
  },
  {
   "cell_type": "code",
   "execution_count": 62,
   "metadata": {},
   "outputs": [
    {
     "name": "stdout",
     "output_type": "stream",
     "text": [
      "Training score : 0.6149149585695596\n",
      "Test accuracy : 0.3713123092573754\n"
     ]
    }
   ],
   "source": [
    "svm = SVC(C=0.1,kernel='poly',gamma=0.1,random_state=42)\n",
    "svm.fit(x_train_std,y_train)\n",
    "print('Training score :',svm.score(x_train_std,y_train))\n",
    "print(\"Test accuracy :\",svm.score(x_test,y_test))"
   ]
  },
  {
   "cell_type": "code",
   "execution_count": null,
   "metadata": {},
   "outputs": [],
   "source": []
  },
  {
   "cell_type": "markdown",
   "metadata": {},
   "source": [
    "### Optimizing the HyperParameter C\n"
   ]
  },
  {
   "cell_type": "code",
   "execution_count": 104,
   "metadata": {
    "scrolled": true
   },
   "outputs": [
    {
     "name": "stdout",
     "output_type": "stream",
     "text": [
      "1.0 0.7361535106846926 0.6907426246185148\n",
      "1.1 0.7383340601831662 0.688708036622584\n",
      "1.2 0.7431312690798081 0.6897253306205493\n",
      "1.3 0.744875708678587 0.6866734486266531\n",
      "1.4 0.7457479284779764 0.6836215666327569\n",
      "1.5 0.7492368076755342 0.6805696846388606\n",
      "1.6 0.754470126471871 0.6795523906408952\n",
      "1.7 0.7579590056694286 0.6805696846388606\n",
      "1.8 0.7631923244657653 0.6805696846388606\n",
      "1.9 0.7671173135630179 0.676500508646999\n",
      "2.0 0.770170082860881 0.6754832146490336\n",
      "2.1 0.773222852158744 0.6775178026449644\n",
      "2.2 0.7754034016572177 0.6795523906408952\n",
      "2.3 0.7754034016572177 0.6795523906408952\n",
      "2.4 0.7771478412559966 0.6775178026449644\n",
      "2.5 0.7793283907544701 0.6775178026449644\n",
      "2.6 0.7819450501526385 0.6785350966429298\n",
      "2.7 0.7828172699520279 0.6775178026449644\n",
      "2.8 0.7832533798517226 0.6795523906408952\n",
      "2.9 0.7832533798517226 0.6805696846388606\n",
      "3.0 0.7849978194505015 0.6805696846388606\n",
      "3.1 0.7849978194505015 0.6785350966429298\n",
      "3.2 0.785870039249891 0.6775178026449644\n",
      "3.3 0.7871783689489752 0.6775178026449644\n",
      "3.4 0.788922808547754 0.6754832146490336\n",
      "3.5 0.7893589184474488 0.669379450661241\n",
      "3.6 0.7906672481465329 0.669379450661241\n",
      "3.7 0.7924116877453118 0.671414038657172\n",
      "3.8 0.7941561273440907 0.6703967446592065\n",
      "3.9 0.7950283471434801 0.6703967446592065\n",
      "4.0 0.7959005669428696 0.6703967446592065\n",
      "4.1 0.796772786742259 0.671414038657172\n",
      "4.2 0.7972088966419538 0.6703967446592065\n",
      "4.3 0.798517226341038 0.6724313326551373\n",
      "4.4 0.7993894461404274 0.6724313326551373\n",
      "4.5 0.7998255560401221 0.6724313326551373\n",
      "4.6 0.8020061055385957 0.6734486266531028\n",
      "4.7 0.8028783253379852 0.6724313326551373\n",
      "4.8 0.8020061055385957 0.6703967446592065\n",
      "4.9 0.8024422154382904 0.669379450661241\n",
      "5.0 0.8028783253379852 0.6734486266531028\n",
      "5.1 0.8033144352376799 0.6724313326551373\n",
      "5.2 0.8046227649367641 0.6724313326551373\n",
      "5.3 0.8050588748364588 0.6724313326551373\n",
      "5.4 0.8068033144352377 0.6724313326551373\n",
      "5.5 0.8076755342346271 0.669379450661241\n",
      "5.6 0.8085477540340166 0.6683621566632757\n",
      "5.7 0.809419973833406 0.6703967446592065\n",
      "5.8 0.8102921936327955 0.6673448626653102\n",
      "5.9 0.8107283035324901 0.6663275686673449\n",
      "6.0 0.8116005233318796 0.6673448626653102\n",
      "6.1 0.8120366332315744 0.6653102746693794\n",
      "6.2 0.8129088530309638 0.6653102746693794\n",
      "6.3 0.8129088530309638 0.6642929806714141\n",
      "6.4 0.8137810728303533 0.6653102746693794\n",
      "6.5 0.8146532926297427 0.6673448626653102\n",
      "6.6 0.8159616223288269 0.6683621566632757\n",
      "6.7 0.8168338421282163 0.6703967446592065\n",
      "6.8 0.8163977322285216 0.6703967446592065\n",
      "6.9 0.8168338421282163 0.6703967446592065\n",
      "7.0 0.8168338421282163 0.671414038657172\n",
      "7.1 0.8172699520279111 0.6724313326551373\n",
      "7.2 0.8177060619276058 0.6703967446592065\n",
      "7.3 0.8185782817269952 0.6703967446592065\n",
      "7.4 0.8198866114260793 0.6724313326551373\n",
      "7.5 0.8207588312254688 0.671414038657172\n",
      "7.6 0.8207588312254688 0.669379450661241\n",
      "7.7 0.8207588312254688 0.6703967446592065\n",
      "7.8 0.8203227213257741 0.6724313326551373\n",
      "7.9 0.8211949411251636 0.6754832146490336\n",
      "8.0 0.8216310510248582 0.6754832146490336\n",
      "8.1 0.8216310510248582 0.6754832146490336\n",
      "8.2 0.8211949411251636 0.6754832146490336\n",
      "8.3 0.8216310510248582 0.6754832146490336\n",
      "8.4 0.8216310510248582 0.6734486266531028\n",
      "8.5 0.8225032708242477 0.6734486266531028\n",
      "8.6 0.8233754906236371 0.676500508646999\n",
      "8.7 0.8242477104230266 0.6775178026449644\n",
      "8.8 0.8242477104230266 0.6775178026449644\n",
      "8.9 0.8246838203227214 0.6754832146490336\n",
      "9.0 0.825119930222416 0.6775178026449644\n",
      "9.1 0.825119930222416 0.6775178026449644\n",
      "9.2 0.8255560401221108 0.676500508646999\n",
      "9.3 0.8255560401221108 0.676500508646999\n",
      "9.4 0.8259921500218055 0.676500508646999\n",
      "9.5 0.8268643698211949 0.676500508646999\n",
      "9.6 0.8273004797208897 0.6754832146490336\n",
      "9.7 0.8281726995202792 0.6754832146490336\n",
      "9.8 0.8277365896205844 0.6734486266531028\n",
      "9.9 0.8281726995202792 0.6734486266531028\n",
      "10.0 0.8294810292193633 0.6734486266531028\n",
      "10.1 0.8294810292193633 0.6724313326551373\n",
      "10.2 0.8294810292193633 0.6734486266531028\n",
      "10.3 0.829917139119058 0.6724313326551373\n",
      "10.4 0.829917139119058 0.669379450661241\n",
      "10.5 0.8303532490187527 0.6683621566632757\n",
      "10.6 0.8312254688181422 0.669379450661241\n",
      "10.7 0.8320976886175316 0.671414038657172\n",
      "10.8 0.8320976886175316 0.6724313326551373\n",
      "10.9 0.8325337985172263 0.6724313326551373\n",
      "11.0 0.8338421282163105 0.6724313326551373\n",
      "11.1 0.8351504579153947 0.6734486266531028\n",
      "11.2 0.8355865678150894 0.6724313326551373\n",
      "11.3 0.8368948975141736 0.671414038657172\n",
      "11.4 0.8373310074138683 0.671414038657172\n",
      "11.5 0.837767117313563 0.6703967446592065\n",
      "11.6 0.837767117313563 0.6703967446592065\n",
      "11.7 0.8386393371129525 0.6703967446592065\n",
      "11.8 0.8390754470126471 0.6703967446592065\n",
      "11.9 0.8395115569123419 0.6703967446592065\n",
      "12.0 0.840819886611426 0.669379450661241\n",
      "12.1 0.8412559965111208 0.669379450661241\n",
      "12.2 0.8421282163105103 0.671414038657172\n",
      "12.3 0.8425643262102049 0.6734486266531028\n",
      "12.4 0.8430004361098997 0.6744659206510681\n",
      "12.5 0.8434365460095944 0.6754832146490336\n",
      "12.6 0.8438726559092892 0.6734486266531028\n",
      "12.7 0.8434365460095944 0.6744659206510681\n",
      "12.8 0.8434365460095944 0.6744659206510681\n",
      "12.9 0.8443087658089838 0.6734486266531028\n",
      "13.0 0.8443087658089838 0.6734486266531028\n",
      "13.1 0.8447448757086786 0.6754832146490336\n",
      "13.2 0.8447448757086786 0.6734486266531028\n",
      "13.3 0.8447448757086786 0.6734486266531028\n",
      "13.4 0.8443087658089838 0.6724313326551373\n",
      "13.5 0.8447448757086786 0.6724313326551373\n",
      "13.6 0.8451809856083733 0.6724313326551373\n",
      "13.7 0.8456170955080681 0.671414038657172\n",
      "13.8 0.8456170955080681 0.6703967446592065\n",
      "13.9 0.8460532054077627 0.6703967446592065\n",
      "14.0 0.8464893153074575 0.671414038657172\n",
      "14.1 0.8469254252071522 0.6703967446592065\n",
      "14.2 0.8469254252071522 0.6703967446592065\n",
      "14.3 0.8469254252071522 0.6703967446592065\n",
      "14.4 0.8469254252071522 0.6703967446592065\n",
      "14.5 0.8469254252071522 0.669379450661241\n",
      "14.6 0.847361535106847 0.6683621566632757\n",
      "14.7 0.8477976450065416 0.669379450661241\n",
      "14.8 0.8477976450065416 0.6683621566632757\n",
      "14.9 0.8482337549062364 0.6683621566632757\n",
      "15.0 0.8486698648059311 0.6683621566632757\n",
      "15.1 0.8486698648059311 0.6683621566632757\n",
      "15.2 0.8486698648059311 0.6683621566632757\n",
      "15.3 0.8495420846053205 0.6673448626653102\n",
      "15.4 0.8499781945050152 0.6673448626653102\n",
      "15.5 0.85041430440471 0.6673448626653102\n",
      "15.6 0.8508504143044047 0.6673448626653102\n",
      "15.7 0.8508504143044047 0.6673448626653102\n",
      "15.8 0.8512865242040994 0.6673448626653102\n",
      "15.9 0.8517226341037941 0.6663275686673449\n",
      "16.0 0.8517226341037941 0.6663275686673449\n",
      "16.1 0.8517226341037941 0.6673448626653102\n",
      "16.2 0.8517226341037941 0.6673448626653102\n",
      "16.3 0.8521587440034889 0.6673448626653102\n",
      "16.4 0.8525948539031836 0.6673448626653102\n",
      "16.5 0.8530309638028784 0.669379450661241\n",
      "16.6 0.853467073702573 0.669379450661241\n",
      "16.7 0.8539031836022678 0.6683621566632757\n",
      "16.8 0.8539031836022678 0.6683621566632757\n",
      "16.9 0.8547754034016573 0.6683621566632757\n",
      "17.0 0.8552115133013519 0.6683621566632757\n",
      "17.1 0.8552115133013519 0.6683621566632757\n",
      "17.2 0.8556476232010467 0.6703967446592065\n",
      "17.3 0.8556476232010467 0.671414038657172\n",
      "17.4 0.8556476232010467 0.671414038657172\n",
      "17.5 0.8556476232010467 0.671414038657172\n",
      "17.6 0.8556476232010467 0.671414038657172\n",
      "17.7 0.8556476232010467 0.6703967446592065\n",
      "17.8 0.8560837331007414 0.6703967446592065\n",
      "17.9 0.8560837331007414 0.669379450661241\n",
      "18.0 0.8560837331007414 0.669379450661241\n",
      "18.1 0.8560837331007414 0.669379450661241\n",
      "18.2 0.8565198430004362 0.669379450661241\n",
      "18.3 0.8573920627998256 0.6703967446592065\n",
      "18.4 0.8569559529001308 0.6703967446592065\n",
      "18.5 0.8573920627998256 0.669379450661241\n",
      "18.6 0.8573920627998256 0.669379450661241\n",
      "18.7 0.8573920627998256 0.669379450661241\n",
      "18.8 0.8573920627998256 0.669379450661241\n",
      "18.9 0.8578281726995203 0.669379450661241\n",
      "19.0 0.8582642825992151 0.669379450661241\n",
      "19.1 0.8582642825992151 0.669379450661241\n",
      "19.2 0.8582642825992151 0.6683621566632757\n",
      "19.3 0.8587003924989097 0.6683621566632757\n",
      "19.4 0.8591365023986044 0.669379450661241\n",
      "19.5 0.8604448320976886 0.669379450661241\n",
      "19.6 0.8613170518970781 0.6683621566632757\n",
      "19.7 0.8613170518970781 0.6683621566632757\n",
      "19.8 0.8613170518970781 0.6673448626653102\n",
      "19.9 0.8608809419973833 0.6673448626653102\n",
      "Done\n"
     ]
    }
   ],
   "source": [
    "sc = StandardScaler()\n",
    "sc.fit(x)\n",
    "X = sc.transform(x)\n",
    "C_range=[i/10 for i in range(10,200)]\n",
    "# acc_score_train=[]\n",
    "# acc_score_test=[]\n",
    "result = {}\n",
    "c_val = []\n",
    "for c in C_range:\n",
    "    svc = SVC(C=c)\n",
    "    svc.fit(x_train_std,y_train)\n",
    "    train = svc.score(x_train_std,y_train)\n",
    "    test = svc.score(x_test_std,y_test)    \n",
    "    acc_score_train.append(train)\n",
    "    acc_score_test.append(test)\n",
    "    c_val.append(c)\n",
    "    print(c,train,test)\n",
    "    result[i] = [train,test]\n",
    "print('Done') "
   ]
  },
  {
   "cell_type": "code",
   "execution_count": 108,
   "metadata": {
    "scrolled": true
   },
   "outputs": [
    {
     "name": "stdout",
     "output_type": "stream",
     "text": [
      "0.01 0.6018316615787178 0.6286876907426246\n",
      "0.02 0.6018316615787178 0.6286876907426246\n",
      "0.03 0.6018316615787178 0.6286876907426246\n",
      "0.04 0.6018316615787178 0.6286876907426246\n",
      "0.05 0.6018316615787178 0.6286876907426246\n",
      "0.06 0.6018316615787178 0.6286876907426246\n",
      "0.07 0.6018316615787178 0.6286876907426246\n",
      "0.08 0.6053205407762756 0.62970498474059\n",
      "0.09 0.6083733100741386 0.6317395727365208\n",
      "0.1 0.6144788486698648 0.6358087487283826\n",
      "0.11 0.6184038377671173 0.6398779247202442\n",
      "0.12 0.626689925861317 0.6408952187182095\n",
      "0.13 0.636284343654601 0.6429298067141404\n",
      "0.14 0.6436982119494112 0.6510681586978637\n",
      "0.15 0.6463148713475796 0.6520854526958291\n",
      "0.16 0.6493676406454426 0.6541200406917599\n",
      "0.17 0.6502398604448321 0.6551373346897253\n",
      "0.18 0.6546009594417793 0.6561546286876907\n",
      "0.19 0.6580898386393371 0.6571719226856562\n",
      "0.2 0.659834278238116 0.6622583926754833\n",
      "0.21 0.6655037069341474 0.6653102746693794\n",
      "0.22 0.667684256432621 0.6663275686673449\n",
      "0.23 0.6711731356301788 0.669379450661241\n",
      "0.24 0.6742259049280419 0.6683621566632757\n",
      "0.25 0.675534234627126 0.671414038657172\n",
      "0.26 0.6777147841255996 0.671414038657172\n",
      "0.27 0.680331443523768 0.6724313326551373\n",
      "0.28 0.6825119930222416 0.6734486266531028\n",
      "0.29 0.6838203227213258 0.6744659206510681\n",
      "0.3 0.6855647623201047 0.6744659206510681\n",
      "0.31 0.688181421718273 0.6754832146490336\n",
      "0.32 0.6890536415176625 0.6785350966429298\n",
      "0.33 0.6894897514173571 0.6754832146490336\n",
      "0.34 0.6903619712167466 0.676500508646999\n",
      "0.35 0.6903619712167466 0.6754832146490336\n",
      "0.36 0.691234191016136 0.6754832146490336\n",
      "0.37 0.6921064108155255 0.6754832146490336\n",
      "0.38 0.6947230702136938 0.6744659206510681\n",
      "0.39 0.6982119494112516 0.6754832146490336\n",
      "0.4 0.6995202791103358 0.676500508646999\n",
      "0.41 0.6990841692106411 0.6744659206510681\n",
      "0.42 0.6995202791103358 0.6754832146490336\n",
      "0.43 0.70082860880942 0.6754832146490336\n",
      "0.44 0.7034452682075883 0.6744659206510681\n",
      "0.45 0.7043174880069778 0.6754832146490336\n",
      "0.46 0.7051897078063672 0.6744659206510681\n",
      "0.47 0.7069341474051462 0.676500508646999\n",
      "0.48 0.7073702573048408 0.676500508646999\n",
      "0.49 0.7091146969036197 0.676500508646999\n",
      "0.5 0.7108591365023986 0.6785350966429298\n",
      "0.51 0.7117313563017881 0.6785350966429298\n",
      "0.52 0.7121674662014827 0.6795523906408952\n",
      "0.53 0.7121674662014827 0.6795523906408952\n",
      "0.54 0.7130396860008722 0.6795523906408952\n",
      "0.55 0.7139119058002616 0.6795523906408952\n",
      "0.56 0.7152202354993459 0.6826042726347915\n",
      "0.57 0.7156563453990405 0.681586978636826\n",
      "0.58 0.7160924552987353 0.6805696846388606\n",
      "0.59 0.71652856519843 0.6805696846388606\n",
      "0.6 0.7174007849978195 0.6805696846388606\n",
      "0.61 0.7174007849978195 0.6795523906408952\n",
      "0.62 0.7204535542956825 0.6795523906408952\n",
      "0.63 0.7226341037941562 0.6785350966429298\n",
      "0.64 0.7226341037941562 0.6785350966429298\n",
      "0.65 0.7230702136938508 0.6785350966429298\n",
      "0.66 0.7235063235935456 0.6805696846388606\n",
      "0.67 0.7243785433929351 0.6805696846388606\n",
      "0.68 0.726122982991714 0.681586978636826\n",
      "0.69 0.726122982991714 0.681586978636826\n",
      "0.7 0.7265590928914086 0.6826042726347915\n",
      "0.71 0.726122982991714 0.681586978636826\n",
      "0.72 0.7269952027911034 0.681586978636826\n",
      "0.73 0.7265590928914086 0.681586978636826\n",
      "0.74 0.7265590928914086 0.681586978636826\n",
      "0.75 0.7269952027911034 0.6826042726347915\n",
      "0.76 0.7274313126907981 0.6826042726347915\n",
      "0.77 0.7283035324901875 0.6836215666327569\n",
      "0.78 0.729175752289577 0.6836215666327569\n",
      "0.79 0.7300479720889664 0.6836215666327569\n",
      "0.8 0.7300479720889664 0.6836215666327569\n",
      "0.81 0.7300479720889664 0.681586978636826\n",
      "0.82 0.7309201918883559 0.681586978636826\n",
      "0.83 0.7313563017880506 0.6826042726347915\n",
      "0.84 0.7313563017880506 0.6836215666327569\n",
      "0.85 0.7309201918883559 0.6826042726347915\n",
      "0.86 0.7309201918883559 0.6826042726347915\n",
      "0.87 0.7309201918883559 0.6826042726347915\n",
      "0.88 0.7317924116877453 0.6836215666327569\n",
      "0.89 0.73222852158744 0.6846388606307223\n",
      "0.9 0.7335368512865242 0.6856561546286877\n",
      "0.91 0.7335368512865242 0.6856561546286877\n",
      "0.92 0.7339729611862189 0.6866734486266531\n",
      "0.93 0.7339729611862189 0.6866734486266531\n",
      "0.94 0.7344090710859137 0.6866734486266531\n",
      "0.95 0.7348451809856084 0.6876907426246185\n",
      "0.96 0.7348451809856084 0.6897253306205493\n",
      "0.97 0.7357174007849978 0.6897253306205493\n",
      "0.98 0.7361535106846926 0.6897253306205493\n",
      "0.99 0.7357174007849978 0.6897253306205493\n",
      "Done\n"
     ]
    }
   ],
   "source": [
    "sc = StandardScaler()\n",
    "sc.fit(x)\n",
    "X = sc.transform(x)\n",
    "C_range=[i/100 for i in range(1,100)]\n",
    "# acc_score_train=[]\n",
    "# acc_score_test=[]\n",
    "result = {}\n",
    "c_val = []\n",
    "for c in C_range:\n",
    "    svc = SVC(C=c)\n",
    "    svc.fit(x_train_std,y_train)\n",
    "    train = svc.score(x_train_std,y_train)\n",
    "    test = svc.score(x_test_std,y_test)    \n",
    "    acc_score_train.append(train)\n",
    "    acc_score_test.append(test)\n",
    "    c_val.append(c)\n",
    "    print(c,train,test)\n",
    "#     result[i] = [train,test]\n",
    "print('Done') "
   ]
  },
  {
   "cell_type": "code",
   "execution_count": 109,
   "metadata": {},
   "outputs": [],
   "source": [
    "# C Value of 0.21 looks fine."
   ]
  },
  {
   "cell_type": "code",
   "execution_count": 110,
   "metadata": {
    "scrolled": true
   },
   "outputs": [
    {
     "name": "stdout",
     "output_type": "stream",
     "text": [
      "1.0 0.9816833842128216 0.6144455747711088\n",
      "1.1 0.9882250327082425 0.6144455747711088\n",
      "1.2 0.9895333624073267 0.6195320447609359\n",
      "1.3 0.9925861317051897 0.6164801627670397\n",
      "1.4 0.9943305713039686 0.6185147507629705\n",
      "1.5 0.9965111208024422 0.6205493387589013\n",
      "1.6 0.9982555604012211 0.6236012207527976\n",
      "1.7 0.9986916703009159 0.624618514750763\n",
      "1.8 0.9991277802006105 0.624618514750763\n",
      "1.9 1.0 0.6276703967446592\n",
      "2.0 1.0 0.6286876907426246\n",
      "2.1 1.0 0.6286876907426246\n",
      "2.2 1.0 0.6286876907426246\n",
      "2.3 1.0 0.6276703967446592\n",
      "2.4 1.0 0.6266531027466938\n",
      "2.5 1.0 0.6266531027466938\n",
      "2.6 1.0 0.6276703967446592\n",
      "2.7 1.0 0.6276703967446592\n",
      "2.8 1.0 0.6276703967446592\n",
      "2.9 1.0 0.6276703967446592\n",
      "3.0 1.0 0.6276703967446592\n",
      "3.1 1.0 0.6276703967446592\n",
      "3.2 1.0 0.6276703967446592\n",
      "3.3 1.0 0.6276703967446592\n",
      "3.4 1.0 0.6276703967446592\n",
      "3.5 1.0 0.6276703967446592\n",
      "3.6 1.0 0.6276703967446592\n",
      "3.7 1.0 0.6276703967446592\n",
      "3.8 1.0 0.6276703967446592\n",
      "3.9 1.0 0.6276703967446592\n",
      "4.0 1.0 0.6276703967446592\n",
      "4.1 1.0 0.6276703967446592\n",
      "4.2 1.0 0.6276703967446592\n",
      "4.3 1.0 0.6276703967446592\n",
      "4.4 1.0 0.6286876907426246\n",
      "4.5 1.0 0.6286876907426246\n",
      "4.6 1.0 0.6286876907426246\n",
      "4.7 1.0 0.6286876907426246\n",
      "4.8 1.0 0.6286876907426246\n",
      "4.9 1.0 0.6286876907426246\n",
      "5.0 1.0 0.6286876907426246\n",
      "5.1 1.0 0.6286876907426246\n",
      "5.2 1.0 0.6286876907426246\n",
      "5.3 1.0 0.6286876907426246\n",
      "5.4 1.0 0.6286876907426246\n",
      "5.5 1.0 0.6286876907426246\n",
      "5.6 1.0 0.6286876907426246\n",
      "5.7 1.0 0.6286876907426246\n",
      "5.8 1.0 0.6286876907426246\n",
      "5.9 1.0 0.6286876907426246\n",
      "6.0 1.0 0.6286876907426246\n",
      "6.1 1.0 0.6286876907426246\n",
      "6.2 1.0 0.6286876907426246\n",
      "6.3 1.0 0.6286876907426246\n",
      "6.4 1.0 0.6286876907426246\n",
      "6.5 1.0 0.6286876907426246\n",
      "6.6 1.0 0.6286876907426246\n",
      "6.7 1.0 0.6286876907426246\n",
      "6.8 1.0 0.6286876907426246\n",
      "6.9 1.0 0.6286876907426246\n",
      "7.0 1.0 0.6286876907426246\n",
      "7.1 1.0 0.6286876907426246\n",
      "7.2 1.0 0.6286876907426246\n",
      "7.3 1.0 0.6286876907426246\n",
      "7.4 1.0 0.6286876907426246\n",
      "7.5 1.0 0.6286876907426246\n",
      "7.6 1.0 0.6286876907426246\n",
      "7.7 1.0 0.6286876907426246\n",
      "7.8 1.0 0.6286876907426246\n",
      "7.9 1.0 0.6286876907426246\n",
      "8.0 1.0 0.6286876907426246\n",
      "8.1 1.0 0.6286876907426246\n",
      "8.2 1.0 0.6286876907426246\n",
      "8.3 1.0 0.6286876907426246\n",
      "8.4 1.0 0.6286876907426246\n",
      "8.5 1.0 0.6286876907426246\n",
      "8.6 1.0 0.6286876907426246\n",
      "8.7 1.0 0.6286876907426246\n",
      "8.8 1.0 0.6286876907426246\n",
      "8.9 1.0 0.6286876907426246\n",
      "9.0 1.0 0.6286876907426246\n",
      "9.1 1.0 0.6286876907426246\n",
      "9.2 1.0 0.6286876907426246\n",
      "9.3 1.0 0.6286876907426246\n",
      "9.4 1.0 0.6286876907426246\n",
      "9.5 1.0 0.6286876907426246\n",
      "9.6 1.0 0.6286876907426246\n",
      "9.7 1.0 0.6286876907426246\n",
      "9.8 1.0 0.6286876907426246\n",
      "9.9 1.0 0.6286876907426246\n",
      "10.0 1.0 0.6286876907426246\n",
      "10.1 1.0 0.6286876907426246\n",
      "10.2 1.0 0.6286876907426246\n",
      "10.3 1.0 0.6286876907426246\n",
      "10.4 1.0 0.6286876907426246\n",
      "10.5 1.0 0.6286876907426246\n",
      "10.6 1.0 0.6286876907426246\n",
      "10.7 1.0 0.6286876907426246\n",
      "10.8 1.0 0.6286876907426246\n",
      "10.9 1.0 0.6286876907426246\n",
      "11.0 1.0 0.6286876907426246\n",
      "11.1 1.0 0.6286876907426246\n",
      "11.2 1.0 0.6286876907426246\n",
      "11.3 1.0 0.6286876907426246\n",
      "11.4 1.0 0.6286876907426246\n",
      "11.5 1.0 0.6286876907426246\n",
      "11.6 1.0 0.6286876907426246\n",
      "11.7 1.0 0.6286876907426246\n",
      "11.8 1.0 0.6286876907426246\n",
      "11.9 1.0 0.6286876907426246\n",
      "12.0 1.0 0.6286876907426246\n",
      "12.1 1.0 0.6286876907426246\n",
      "12.2 1.0 0.6286876907426246\n",
      "12.3 1.0 0.6286876907426246\n",
      "12.4 1.0 0.6286876907426246\n",
      "12.5 1.0 0.6286876907426246\n",
      "12.6 1.0 0.6286876907426246\n",
      "12.7 1.0 0.6286876907426246\n",
      "12.8 1.0 0.6286876907426246\n",
      "12.9 1.0 0.6286876907426246\n",
      "13.0 1.0 0.6286876907426246\n",
      "13.1 1.0 0.6286876907426246\n",
      "13.2 1.0 0.6286876907426246\n",
      "13.3 1.0 0.6286876907426246\n",
      "13.4 1.0 0.6286876907426246\n",
      "13.5 1.0 0.6286876907426246\n",
      "13.6 1.0 0.6286876907426246\n",
      "13.7 1.0 0.6286876907426246\n",
      "13.8 1.0 0.6286876907426246\n",
      "13.9 1.0 0.6286876907426246\n",
      "14.0 1.0 0.6286876907426246\n",
      "14.1 1.0 0.6286876907426246\n",
      "14.2 1.0 0.6286876907426246\n",
      "14.3 1.0 0.6286876907426246\n",
      "14.4 1.0 0.6286876907426246\n",
      "14.5 1.0 0.6286876907426246\n",
      "14.6 1.0 0.6286876907426246\n",
      "14.7 1.0 0.6286876907426246\n",
      "14.8 1.0 0.6286876907426246\n",
      "14.9 1.0 0.6286876907426246\n",
      "15.0 1.0 0.6286876907426246\n",
      "15.1 1.0 0.6286876907426246\n",
      "15.2 1.0 0.6286876907426246\n",
      "15.3 1.0 0.6286876907426246\n",
      "15.4 1.0 0.6286876907426246\n",
      "15.5 1.0 0.6286876907426246\n",
      "15.6 1.0 0.6286876907426246\n",
      "15.7 1.0 0.6286876907426246\n",
      "15.8 1.0 0.6286876907426246\n",
      "15.9 1.0 0.6286876907426246\n",
      "16.0 1.0 0.6286876907426246\n",
      "16.1 1.0 0.6286876907426246\n",
      "16.2 1.0 0.6286876907426246\n",
      "16.3 1.0 0.6286876907426246\n",
      "16.4 1.0 0.6286876907426246\n",
      "16.5 1.0 0.6286876907426246\n",
      "16.6 1.0 0.6286876907426246\n",
      "16.7 1.0 0.6286876907426246\n",
      "16.8 1.0 0.6286876907426246\n",
      "16.9 1.0 0.6286876907426246\n",
      "17.0 1.0 0.6286876907426246\n",
      "17.1 1.0 0.6286876907426246\n",
      "17.2 1.0 0.6286876907426246\n",
      "17.3 1.0 0.6286876907426246\n",
      "17.4 1.0 0.6286876907426246\n",
      "17.5 1.0 0.6286876907426246\n",
      "17.6 1.0 0.6286876907426246\n",
      "17.7 1.0 0.6286876907426246\n",
      "17.8 1.0 0.6286876907426246\n",
      "17.9 1.0 0.6286876907426246\n",
      "18.0 1.0 0.6286876907426246\n",
      "18.1 1.0 0.6286876907426246\n",
      "18.2 1.0 0.6286876907426246\n",
      "18.3 1.0 0.6286876907426246\n",
      "18.4 1.0 0.6286876907426246\n",
      "18.5 1.0 0.6286876907426246\n",
      "18.6 1.0 0.6286876907426246\n",
      "18.7 1.0 0.6286876907426246\n",
      "18.8 1.0 0.6286876907426246\n",
      "18.9 1.0 0.6286876907426246\n",
      "19.0 1.0 0.6286876907426246\n",
      "19.1 1.0 0.6286876907426246\n",
      "19.2 1.0 0.6286876907426246\n",
      "19.3 1.0 0.6286876907426246\n",
      "19.4 1.0 0.6286876907426246\n",
      "19.5 1.0 0.6286876907426246\n",
      "19.6 1.0 0.6286876907426246\n",
      "19.7 1.0 0.6286876907426246\n",
      "19.8 1.0 0.6286876907426246\n",
      "19.9 1.0 0.6286876907426246\n",
      "Done\n"
     ]
    }
   ],
   "source": [
    "sc = StandardScaler()\n",
    "sc.fit(x)\n",
    "X = sc.transform(x)\n",
    "C_range=[i/10 for i in range(10,200)]\n",
    "# acc_score_train=[]\n",
    "# acc_score_test=[]\n",
    "result = {}\n",
    "c_val = []\n",
    "for c in C_range:\n",
    "    svc = SVC(gamma=c)\n",
    "    svc.fit(x_train_std,y_train)\n",
    "    train = svc.score(x_train_std,y_train)\n",
    "    test = svc.score(x_test_std,y_test)    \n",
    "    acc_score_train.append(train)\n",
    "    acc_score_test.append(test)\n",
    "    c_val.append(c)\n",
    "    print(c,train,test)\n",
    "    result[i] = [train,test]\n",
    "print('Done') "
   ]
  },
  {
   "cell_type": "code",
   "execution_count": 111,
   "metadata": {
    "scrolled": true
   },
   "outputs": [
    {
     "name": "stdout",
     "output_type": "stream",
     "text": [
      "0.01 0.6018316615787178 0.6286876907426246\n",
      "0.02 0.6018316615787178 0.6286876907426246\n",
      "0.03 0.6018316615787178 0.6286876907426246\n",
      "0.04 0.6018316615787178 0.6286876907426246\n",
      "0.05 0.6018316615787178 0.6286876907426246\n",
      "0.06 0.6018316615787178 0.6286876907426246\n",
      "0.07 0.6018316615787178 0.6286876907426246\n",
      "0.08 0.6053205407762756 0.62970498474059\n",
      "0.09 0.6083733100741386 0.6317395727365208\n",
      "0.1 0.6144788486698648 0.6358087487283826\n",
      "0.11 0.6184038377671173 0.6398779247202442\n",
      "0.12 0.626689925861317 0.6408952187182095\n",
      "0.13 0.636284343654601 0.6429298067141404\n",
      "0.14 0.6436982119494112 0.6510681586978637\n",
      "0.15 0.6463148713475796 0.6520854526958291\n",
      "0.16 0.6493676406454426 0.6541200406917599\n",
      "0.17 0.6502398604448321 0.6551373346897253\n",
      "0.18 0.6546009594417793 0.6561546286876907\n",
      "0.19 0.6580898386393371 0.6571719226856562\n",
      "0.2 0.659834278238116 0.6622583926754833\n",
      "0.21 0.6655037069341474 0.6653102746693794\n",
      "0.22 0.667684256432621 0.6663275686673449\n",
      "0.23 0.6711731356301788 0.669379450661241\n",
      "0.24 0.6742259049280419 0.6683621566632757\n",
      "0.25 0.675534234627126 0.671414038657172\n",
      "0.26 0.6777147841255996 0.671414038657172\n",
      "0.27 0.680331443523768 0.6724313326551373\n",
      "0.28 0.6825119930222416 0.6734486266531028\n",
      "0.29 0.6838203227213258 0.6744659206510681\n",
      "0.3 0.6855647623201047 0.6744659206510681\n",
      "0.31 0.688181421718273 0.6754832146490336\n",
      "0.32 0.6890536415176625 0.6785350966429298\n",
      "0.33 0.6894897514173571 0.6754832146490336\n",
      "0.34 0.6903619712167466 0.676500508646999\n",
      "0.35 0.6903619712167466 0.6754832146490336\n",
      "0.36 0.691234191016136 0.6754832146490336\n",
      "0.37 0.6921064108155255 0.6754832146490336\n",
      "0.38 0.6947230702136938 0.6744659206510681\n",
      "0.39 0.6982119494112516 0.6754832146490336\n",
      "0.4 0.6995202791103358 0.676500508646999\n",
      "0.41 0.6990841692106411 0.6744659206510681\n",
      "0.42 0.6995202791103358 0.6754832146490336\n",
      "0.43 0.70082860880942 0.6754832146490336\n",
      "0.44 0.7034452682075883 0.6744659206510681\n",
      "0.45 0.7043174880069778 0.6754832146490336\n",
      "0.46 0.7051897078063672 0.6744659206510681\n",
      "0.47 0.7069341474051462 0.676500508646999\n",
      "0.48 0.7073702573048408 0.676500508646999\n",
      "0.49 0.7091146969036197 0.676500508646999\n",
      "0.5 0.7108591365023986 0.6785350966429298\n",
      "0.51 0.7117313563017881 0.6785350966429298\n",
      "0.52 0.7121674662014827 0.6795523906408952\n",
      "0.53 0.7121674662014827 0.6795523906408952\n",
      "0.54 0.7130396860008722 0.6795523906408952\n",
      "0.55 0.7139119058002616 0.6795523906408952\n",
      "0.56 0.7152202354993459 0.6826042726347915\n",
      "0.57 0.7156563453990405 0.681586978636826\n",
      "0.58 0.7160924552987353 0.6805696846388606\n",
      "0.59 0.71652856519843 0.6805696846388606\n",
      "0.6 0.7174007849978195 0.6805696846388606\n",
      "0.61 0.7174007849978195 0.6795523906408952\n",
      "0.62 0.7204535542956825 0.6795523906408952\n",
      "0.63 0.7226341037941562 0.6785350966429298\n",
      "0.64 0.7226341037941562 0.6785350966429298\n",
      "0.65 0.7230702136938508 0.6785350966429298\n",
      "0.66 0.7235063235935456 0.6805696846388606\n",
      "0.67 0.7243785433929351 0.6805696846388606\n",
      "0.68 0.726122982991714 0.681586978636826\n",
      "0.69 0.726122982991714 0.681586978636826\n",
      "0.7 0.7265590928914086 0.6826042726347915\n",
      "0.71 0.726122982991714 0.681586978636826\n",
      "0.72 0.7269952027911034 0.681586978636826\n",
      "0.73 0.7265590928914086 0.681586978636826\n",
      "0.74 0.7265590928914086 0.681586978636826\n",
      "0.75 0.7269952027911034 0.6826042726347915\n",
      "0.76 0.7274313126907981 0.6826042726347915\n",
      "0.77 0.7283035324901875 0.6836215666327569\n",
      "0.78 0.729175752289577 0.6836215666327569\n",
      "0.79 0.7300479720889664 0.6836215666327569\n",
      "0.8 0.7300479720889664 0.6836215666327569\n",
      "0.81 0.7300479720889664 0.681586978636826\n",
      "0.82 0.7309201918883559 0.681586978636826\n",
      "0.83 0.7313563017880506 0.6826042726347915\n",
      "0.84 0.7313563017880506 0.6836215666327569\n",
      "0.85 0.7309201918883559 0.6826042726347915\n",
      "0.86 0.7309201918883559 0.6826042726347915\n",
      "0.87 0.7309201918883559 0.6826042726347915\n",
      "0.88 0.7317924116877453 0.6836215666327569\n",
      "0.89 0.73222852158744 0.6846388606307223\n",
      "0.9 0.7335368512865242 0.6856561546286877\n",
      "0.91 0.7335368512865242 0.6856561546286877\n",
      "0.92 0.7339729611862189 0.6866734486266531\n",
      "0.93 0.7339729611862189 0.6866734486266531\n",
      "0.94 0.7344090710859137 0.6866734486266531\n",
      "0.95 0.7348451809856084 0.6876907426246185\n",
      "0.96 0.7348451809856084 0.6897253306205493\n",
      "0.97 0.7357174007849978 0.6897253306205493\n",
      "0.98 0.7361535106846926 0.6897253306205493\n",
      "0.99 0.7357174007849978 0.6897253306205493\n",
      "Done\n"
     ]
    }
   ],
   "source": [
    "sc = StandardScaler()\n",
    "sc.fit(x)\n",
    "X = sc.transform(x)\n",
    "C_range=[i/100 for i in range(1,100)]\n",
    "# acc_score_train=[]\n",
    "# acc_score_test=[]\n",
    "result = {}\n",
    "c_val = []\n",
    "for c in C_range:\n",
    "    svc = SVC(C=c)\n",
    "    svc.fit(x_train_std,y_train)\n",
    "    train = svc.score(x_train_std,y_train)\n",
    "    test = svc.score(x_test_std,y_test)    \n",
    "    acc_score_train.append(train)\n",
    "    acc_score_test.append(test)\n",
    "    c_val.append(c)\n",
    "    print(c,train,test)\n",
    "#     result[i] = [train,test]\n",
    "print('Done') "
   ]
  },
  {
   "cell_type": "code",
   "execution_count": 112,
   "metadata": {},
   "outputs": [],
   "source": [
    "# gamma = 0.18"
   ]
  },
  {
   "cell_type": "code",
   "execution_count": 115,
   "metadata": {},
   "outputs": [
    {
     "name": "stdout",
     "output_type": "stream",
     "text": [
      "Training score : 0.6585259485390318\n",
      "Test accuracy : 0.6531027466937945\n"
     ]
    }
   ],
   "source": [
    "svm = SVC(C=0.21,gamma=0.18,kernel='rbf',random_state=42)\n",
    "svm.fit(x_train_std,y_train)\n",
    "print('Training score :',svm.score(x_train_std,y_train))\n",
    "print(\"Test accuracy :\",svm.score(x_test_std,y_test))"
   ]
  },
  {
   "cell_type": "code",
   "execution_count": 116,
   "metadata": {},
   "outputs": [
    {
     "name": "stdout",
     "output_type": "stream",
     "text": [
      "Training score : 0.644134321849106\n",
      "Test accuracy : 0.6358087487283826\n"
     ]
    }
   ],
   "source": [
    "svm = SVC(C=0.21,gamma=0.18,kernel='poly',random_state=42)\n",
    "svm.fit(x_train_std,y_train)\n",
    "print('Training score :',svm.score(x_train_std,y_train))\n",
    "print(\"Test accuracy :\",svm.score(x_test_std,y_test))"
   ]
  },
  {
   "cell_type": "code",
   "execution_count": 117,
   "metadata": {},
   "outputs": [
    {
     "name": "stdout",
     "output_type": "stream",
     "text": [
      "Training score : 0.6018316615787178\n",
      "Test accuracy : 0.6286876907426246\n"
     ]
    }
   ],
   "source": [
    "svm = SVC(C=0.21,gamma=0.18,kernel='linear',random_state=42)\n",
    "svm.fit(x_train_std,y_train)\n",
    "print('Training score :',svm.score(x_train_std,y_train))\n",
    "print(\"Test accuracy :\",svm.score(x_test_std,y_test))"
   ]
  },
  {
   "cell_type": "code",
   "execution_count": 118,
   "metadata": {},
   "outputs": [
    {
     "name": "stdout",
     "output_type": "stream",
     "text": [
      "Training score : 0.5098124727431312\n",
      "Test accuracy : 0.5635808748728383\n"
     ]
    }
   ],
   "source": [
    "svm = SVC(C=0.21,gamma=0.18,kernel='sigmoid',random_state=42)\n",
    "svm.fit(x_train_std,y_train)\n",
    "print('Training score :',svm.score(x_train_std,y_train))\n",
    "print(\"Test accuracy :\",svm.score(x_test_std,y_test))"
   ]
  },
  {
   "cell_type": "code",
   "execution_count": 121,
   "metadata": {},
   "outputs": [],
   "source": [
    "#Kernel = rbf looks fine"
   ]
  },
  {
   "cell_type": "code",
   "execution_count": 125,
   "metadata": {},
   "outputs": [
    {
     "data": {
      "text/plain": [
       "SVC(C=0.21, gamma=0.18, probability=True, random_state=42)"
      ]
     },
     "execution_count": 125,
     "metadata": {},
     "output_type": "execute_result"
    }
   ],
   "source": [
    "svm = SVC(C=0.21,gamma=0.18,kernel='rbf',random_state=42,probability=True)\n",
    "svm.fit(x_train_std,y_train)\n"
   ]
  },
  {
   "cell_type": "code",
   "execution_count": 128,
   "metadata": {},
   "outputs": [],
   "source": [
    "y_pred_svm = svm.predict(x_test_std)\n",
    "y_prob_svm = svm.predict_proba(x_test_std)[:,1]"
   ]
  },
  {
   "cell_type": "code",
   "execution_count": 130,
   "metadata": {},
   "outputs": [
    {
     "data": {
      "text/plain": [
       "0.6531027466937945"
      ]
     },
     "execution_count": 130,
     "metadata": {},
     "output_type": "execute_result"
    }
   ],
   "source": [
    "accuracy_score(y_test,y_pred_svm)"
   ]
  },
  {
   "cell_type": "code",
   "execution_count": 132,
   "metadata": {},
   "outputs": [
    {
     "name": "stdout",
     "output_type": "stream",
     "text": [
      "              precision    recall  f1-score   support\n",
      "\n",
      "           0       0.65      0.98      0.78       618\n",
      "           1       0.73      0.10      0.18       365\n",
      "\n",
      "    accuracy                           0.65       983\n",
      "   macro avg       0.69      0.54      0.48       983\n",
      "weighted avg       0.68      0.65      0.56       983\n",
      "\n"
     ]
    }
   ],
   "source": [
    "print(classification_report(y_test,y_pred_svm))"
   ]
  },
  {
   "cell_type": "code",
   "execution_count": 133,
   "metadata": {},
   "outputs": [
    {
     "data": {
      "text/plain": [
       "<matplotlib.axes._subplots.AxesSubplot at 0x1e7d549c9d0>"
      ]
     },
     "execution_count": 133,
     "metadata": {},
     "output_type": "execute_result"
    },
    {
     "data": {
      "image/png": "[encoded data removed]",
      "text/plain": [
       "<Figure size 432x288 with 2 Axes>"
      ]
     },
     "metadata": {
      "needs_background": "light"
     },
     "output_type": "display_data"
    }
   ],
   "source": [
    "sns.heatmap(confusion_matrix(y_test,y_pred_svm),annot=True,cmap='coolwarm',fmt='.0f')"
   ]
  },
  {
   "cell_type": "code",
   "execution_count": 134,
   "metadata": {},
   "outputs": [
    {
     "data": {
      "text/plain": [
       "0.6821119829764597"
      ]
     },
     "execution_count": 134,
     "metadata": {},
     "output_type": "execute_result"
    }
   ],
   "source": [
    "fpr_svm,tpr_svm,threshold_svm = roc_curve(y_test,y_prob_svm)\n",
    "roc_auc_svm = auc(fpr_svm,tpr_svm)\n",
    "roc_auc_svm"
   ]
  },
  {
   "cell_type": "code",
   "execution_count": 136,
   "metadata": {},
   "outputs": [
    {
     "data": {
      "image/png": "[encoded data removed]",
      "text/plain": [
       "<Figure size 720x432 with 1 Axes>"
      ]
     },
     "metadata": {
      "needs_background": "light"
     },
     "output_type": "display_data"
    }
   ],
   "source": [
    "plt.figure(figsize=(10,6))\n",
    "lw = 2\n",
    "plt.plot(fpr_dt, tpr_dt, color='green',\n",
    "         lw=lw, label='Decision Tree(AUC = %0.2f)' % roc_auc_val_dt)\n",
    "plt.plot(fpr_rf, tpr_rf, color='blue',\n",
    "         lw=lw, label='Random Forest(AUC = %0.2f)' % roc_auc_val_rf)\n",
    "plt.plot(fpr_lr, tpr_lr, color='red',\n",
    "         lw=lw, label='Logistic Regression(AUC = %0.2f)' % auc_dt_lr)\n",
    "plt.plot(fpr_knn, tpr_knn, color='black',\n",
    "         lw=lw, label='KNN(AUC = %0.2f)' % roc_auc_KNN)\n",
    "plt.plot(fpr_svm, tpr_svm, color='purple',\n",
    "         lw=lw, label='SVM(AUC = %0.2f)' % roc_auc_svm)\n",
    "plt.plot([0, 1], [0, 1], color='navy', lw=lw, linestyle='--')\n",
    "\n",
    "plt.xlim([0.0, 1.0])\n",
    "plt.ylim([0.0, 1.05])\n",
    "plt.xlabel('False Positive Rate')\n",
    "plt.ylabel('True Positive Rate')\n",
    "plt.title('Area Under Curve')\n",
    "plt.legend(loc=\"lower right\")\n",
    "plt.show()"
   ]
  },
  {
   "cell_type": "code",
   "execution_count": null,
   "metadata": {},
   "outputs": [],
   "source": []
  },
  {
   "cell_type": "code",
   "execution_count": null,
   "metadata": {},
   "outputs": [],
   "source": []
  },
  {
   "cell_type": "code",
   "execution_count": null,
   "metadata": {},
   "outputs": [],
   "source": []
  },
  {
   "cell_type": "code",
   "execution_count": null,
   "metadata": {},
   "outputs": [],
   "source": []
  },
  {
   "cell_type": "code",
   "execution_count": null,
   "metadata": {},
   "outputs": [],
   "source": []
  },
  {
   "cell_type": "code",
   "execution_count": null,
   "metadata": {},
   "outputs": [],
   "source": []
  },
  {
   "cell_type": "code",
   "execution_count": null,
   "metadata": {},
   "outputs": [],
   "source": []
  },
  {
   "cell_type": "code",
   "execution_count": null,
   "metadata": {},
   "outputs": [],
   "source": []
  },
  {
   "cell_type": "code",
   "execution_count": null,
   "metadata": {},
   "outputs": [],
   "source": []
  },
  {
   "cell_type": "code",
   "execution_count": null,
   "metadata": {},
   "outputs": [],
   "source": []
  },
  {
   "cell_type": "code",
   "execution_count": null,
   "metadata": {},
   "outputs": [],
   "source": []
  },
  {
   "cell_type": "code",
   "execution_count": null,
   "metadata": {},
   "outputs": [],
   "source": []
  },
  {
   "cell_type": "code",
   "execution_count": null,
   "metadata": {},
   "outputs": [],
   "source": []
  },
  {
   "cell_type": "code",
   "execution_count": null,
   "metadata": {},
   "outputs": [],
   "source": []
  },
  {
   "cell_type": "code",
   "execution_count": null,
   "metadata": {},
   "outputs": [],
   "source": []
  },
  {
   "cell_type": "code",
   "execution_count": null,
   "metadata": {},
   "outputs": [],
   "source": []
  },
  {
   "cell_type": "code",
   "execution_count": null,
   "metadata": {},
   "outputs": [],
   "source": []
  },
  {
   "cell_type": "code",
   "execution_count": null,
   "metadata": {},
   "outputs": [],
   "source": []
  },
  {
   "cell_type": "code",
   "execution_count": null,
   "metadata": {},
   "outputs": [],
   "source": []
  },
  {
   "cell_type": "code",
   "execution_count": null,
   "metadata": {},
   "outputs": [],
   "source": []
  },
  {
   "cell_type": "code",
   "execution_count": null,
   "metadata": {},
   "outputs": [],
   "source": []
  },
  {
   "cell_type": "code",
   "execution_count": null,
   "metadata": {},
   "outputs": [],
   "source": []
  },
  {
   "cell_type": "code",
   "execution_count": null,
   "metadata": {},
   "outputs": [],
   "source": []
  },
  {
   "cell_type": "code",
   "execution_count": null,
   "metadata": {},
   "outputs": [],
   "source": []
  },
  {
   "cell_type": "code",
   "execution_count": null,
   "metadata": {},
   "outputs": [],
   "source": []
  },
  {
   "cell_type": "code",
   "execution_count": null,
   "metadata": {},
   "outputs": [],
   "source": []
  },
  {
   "cell_type": "code",
   "execution_count": null,
   "metadata": {},
   "outputs": [],
   "source": []
  },
  {
   "cell_type": "code",
   "execution_count": null,
   "metadata": {},
   "outputs": [],
   "source": []
  },
  {
   "cell_type": "code",
   "execution_count": null,
   "metadata": {},
   "outputs": [],
   "source": []
  },
  {
   "cell_type": "code",
   "execution_count": null,
   "metadata": {},
   "outputs": [],
   "source": []
  },
  {
   "cell_type": "code",
   "execution_count": null,
   "metadata": {},
   "outputs": [],
   "source": []
  },
  {
   "cell_type": "code",
   "execution_count": null,
   "metadata": {},
   "outputs": [],
   "source": []
  },
  {
   "cell_type": "code",
   "execution_count": null,
   "metadata": {},
   "outputs": [],
   "source": []
  },
  {
   "cell_type": "code",
   "execution_count": null,
   "metadata": {},
   "outputs": [],
   "source": []
  },
  {
   "cell_type": "code",
   "execution_count": null,
   "metadata": {},
   "outputs": [],
   "source": []
  }
 ],
 "metadata": {
  "kernelspec": {
   "display_name": "Python 3",
   "language": "python",
   "name": "python3"
  },
  "language_info": {
   "codemirror_mode": {
    "name": "ipython",
    "version": 3
   },
   "file_extension": ".py",
   "mimetype": "text/x-python",
   "name": "python",
   "nbconvert_exporter": "python",
   "pygments_lexer": "ipython3",
   "version": "3.8.3"
  }
 },
 "nbformat": 4,
 "nbformat_minor": 4
}
