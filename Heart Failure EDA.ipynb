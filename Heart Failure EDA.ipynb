{
 "cells": [
  {
   "cell_type": "markdown",
   "metadata": {},
   "source": [
    "# Heart Failure Prediction"
   ]
  },
  {
   "cell_type": "raw",
   "metadata": {},
   "source": [
    "Age                      : Age\n",
    "anaemia                  : Decrease of red blood cells or hemoglobin (boolean)\n",
    "creatinine_phosphokinase : Level of the CPK enzyme in the blood (mcg/L)\n",
    "diabetes                 : If the patient has diabetes (boolean)\n",
    "ejection_fraction        : Percentage of blood leaving the heart at each contraction (percentage)\n",
    "high_blood_pressure      : If the patient has hypertension (boolean)\n",
    "platelets                : Platelets in the blood (kiloplatelets/mL)\n",
    "serum_creatinine         : Level of serum creatinine in the blood (mg/dL)\n",
    "serum_sodium             : Level of serum sodium in the blood (mEq/L)\n",
    "sex                      : Woman or man (binary)\n",
    "smoking                  : If the patient smokes or not (boolean)\n",
    "time                     : Follow-up period (days)\n",
    "DEATH_EVENT              : If the patient deceased during the follow-up period (boolean)"
   ]
  },
  {
   "cell_type": "markdown",
   "metadata": {},
   "source": [
    "Cardiovascular diseases (CVDs) are the number 1 cause of death globally, taking an estimated 17.9 million lives each year, which accounts for 31% of all deaths worlwide.\n",
    "Heart failure is a common event caused by CVDs and this dataset contains 12 features that can be used to predict mortality by heart failure.\n",
    "\n",
    "Most cardiovascular diseases can be prevented by addressing behavioural risk factors such as tobacco use, unhealthy diet and obesity, physical inactivity and harmful use of alcohol using population-wide strategies.\n",
    "\n",
    "People with cardiovascular disease or who are at high cardiovascular risk (due to the presence of one or more risk factors such as hypertension, diabetes, hyperlipidaemia or already established disease) need early detection and management wherein a machine learning model can be of great help."
   ]
  },
  {
   "cell_type": "code",
   "execution_count": 1,
   "metadata": {},
   "outputs": [],
   "source": [
    "import numpy as np\n",
    "import pandas as pd\n",
    "import matplotlib.pyplot as plt\n",
    "import seaborn as sns\n",
    "from sklearn.model_selection import train_test_split\n",
    "from sklearn.tree import DecisionTreeClassifier\n",
    "from sklearn.metrics import confusion_matrix\n",
    "from sklearn.metrics import accuracy_score\n",
    "from sklearn.metrics import roc_curve,auc\n",
    "from sklearn.metrics import classification_report"
   ]
  },
  {
   "cell_type": "code",
   "execution_count": 2,
   "metadata": {},
   "outputs": [],
   "source": [
    "data = pd.read_csv('datasets/heart_failure_clinical_records_dataset.csv')"
   ]
  },
  {
   "cell_type": "code",
   "execution_count": 3,
   "metadata": {},
   "outputs": [
    {
     "data": {
      "text/html": [
       "<div>\n",
       "<style scoped>\n",
       "    .dataframe tbody tr th:only-of-type {\n",
       "        vertical-align: middle;\n",
       "    }\n",
       "\n",
       "    .dataframe tbody tr th {\n",
       "        vertical-align: top;\n",
       "    }\n",
       "\n",
       "    .dataframe thead th {\n",
       "        text-align: right;\n",
       "    }\n",
       "</style>\n",
       "<table border=\"1\" class=\"dataframe\">\n",
       "  <thead>\n",
       "    <tr style=\"text-align: right;\">\n",
       "      <th></th>\n",
       "      <th>age</th>\n",
       "      <th>anaemia</th>\n",
       "      <th>creatinine_phosphokinase</th>\n",
       "      <th>diabetes</th>\n",
       "      <th>ejection_fraction</th>\n",
       "      <th>high_blood_pressure</th>\n",
       "      <th>platelets</th>\n",
       "      <th>serum_creatinine</th>\n",
       "      <th>serum_sodium</th>\n",
       "      <th>sex</th>\n",
       "      <th>smoking</th>\n",
       "      <th>time</th>\n",
       "      <th>DEATH_EVENT</th>\n",
       "    </tr>\n",
       "  </thead>\n",
       "  <tbody>\n",
       "    <tr>\n",
       "      <th>0</th>\n",
       "      <td>75.0</td>\n",
       "      <td>0</td>\n",
       "      <td>582</td>\n",
       "      <td>0</td>\n",
       "      <td>20</td>\n",
       "      <td>1</td>\n",
       "      <td>265000.00</td>\n",
       "      <td>1.9</td>\n",
       "      <td>130</td>\n",
       "      <td>1</td>\n",
       "      <td>0</td>\n",
       "      <td>4</td>\n",
       "      <td>1</td>\n",
       "    </tr>\n",
       "    <tr>\n",
       "      <th>1</th>\n",
       "      <td>55.0</td>\n",
       "      <td>0</td>\n",
       "      <td>7861</td>\n",
       "      <td>0</td>\n",
       "      <td>38</td>\n",
       "      <td>0</td>\n",
       "      <td>263358.03</td>\n",
       "      <td>1.1</td>\n",
       "      <td>136</td>\n",
       "      <td>1</td>\n",
       "      <td>0</td>\n",
       "      <td>6</td>\n",
       "      <td>1</td>\n",
       "    </tr>\n",
       "    <tr>\n",
       "      <th>2</th>\n",
       "      <td>65.0</td>\n",
       "      <td>0</td>\n",
       "      <td>146</td>\n",
       "      <td>0</td>\n",
       "      <td>20</td>\n",
       "      <td>0</td>\n",
       "      <td>162000.00</td>\n",
       "      <td>1.3</td>\n",
       "      <td>129</td>\n",
       "      <td>1</td>\n",
       "      <td>1</td>\n",
       "      <td>7</td>\n",
       "      <td>1</td>\n",
       "    </tr>\n",
       "    <tr>\n",
       "      <th>3</th>\n",
       "      <td>50.0</td>\n",
       "      <td>1</td>\n",
       "      <td>111</td>\n",
       "      <td>0</td>\n",
       "      <td>20</td>\n",
       "      <td>0</td>\n",
       "      <td>210000.00</td>\n",
       "      <td>1.9</td>\n",
       "      <td>137</td>\n",
       "      <td>1</td>\n",
       "      <td>0</td>\n",
       "      <td>7</td>\n",
       "      <td>1</td>\n",
       "    </tr>\n",
       "    <tr>\n",
       "      <th>4</th>\n",
       "      <td>65.0</td>\n",
       "      <td>1</td>\n",
       "      <td>160</td>\n",
       "      <td>1</td>\n",
       "      <td>20</td>\n",
       "      <td>0</td>\n",
       "      <td>327000.00</td>\n",
       "      <td>2.7</td>\n",
       "      <td>116</td>\n",
       "      <td>0</td>\n",
       "      <td>0</td>\n",
       "      <td>8</td>\n",
       "      <td>1</td>\n",
       "    </tr>\n",
       "  </tbody>\n",
       "</table>\n",
       "</div>"
      ],
      "text/plain": [
       "    age  anaemia  creatinine_phosphokinase  diabetes  ejection_fraction  \\\n",
       "0  75.0        0                       582         0                 20   \n",
       "1  55.0        0                      7861         0                 38   \n",
       "2  65.0        0                       146         0                 20   \n",
       "3  50.0        1                       111         0                 20   \n",
       "4  65.0        1                       160         1                 20   \n",
       "\n",
       "   high_blood_pressure  platelets  serum_creatinine  serum_sodium  sex  \\\n",
       "0                    1  265000.00               1.9           130    1   \n",
       "1                    0  263358.03               1.1           136    1   \n",
       "2                    0  162000.00               1.3           129    1   \n",
       "3                    0  210000.00               1.9           137    1   \n",
       "4                    0  327000.00               2.7           116    0   \n",
       "\n",
       "   smoking  time  DEATH_EVENT  \n",
       "0        0     4            1  \n",
       "1        0     6            1  \n",
       "2        1     7            1  \n",
       "3        0     7            1  \n",
       "4        0     8            1  "
      ]
     },
     "execution_count": 3,
     "metadata": {},
     "output_type": "execute_result"
    }
   ],
   "source": [
    "data.head()"
   ]
  },
  {
   "cell_type": "code",
   "execution_count": 4,
   "metadata": {},
   "outputs": [
    {
     "data": {
      "text/plain": [
       "<matplotlib.axes._subplots.AxesSubplot at 0x2e8da02e160>"
      ]
     },
     "execution_count": 4,
     "metadata": {},
     "output_type": "execute_result"
    },
    {
     "data": {
      "image/png": "[encoded data removed]",
      "text/plain": [
       "<Figure size 432x288 with 1 Axes>"
      ]
     },
     "metadata": {
      "needs_background": "light"
     },
     "output_type": "display_data"
    }
   ],
   "source": [
    "sns.countplot(data['DEATH_EVENT'])"
   ]
  },
  {
   "cell_type": "code",
   "execution_count": 5,
   "metadata": {},
   "outputs": [
    {
     "data": {
      "text/plain": [
       "DEATH_EVENT\n",
       "0    203\n",
       "1     96\n",
       "Name: DEATH_EVENT, dtype: int64"
      ]
     },
     "execution_count": 5,
     "metadata": {},
     "output_type": "execute_result"
    }
   ],
   "source": [
    "data.groupby('DEATH_EVENT')['DEATH_EVENT'].count()"
   ]
  },
  {
   "cell_type": "code",
   "execution_count": 6,
   "metadata": {},
   "outputs": [
    {
     "data": {
      "text/html": [
       "<div>\n",
       "<style scoped>\n",
       "    .dataframe tbody tr th:only-of-type {\n",
       "        vertical-align: middle;\n",
       "    }\n",
       "\n",
       "    .dataframe tbody tr th {\n",
       "        vertical-align: top;\n",
       "    }\n",
       "\n",
       "    .dataframe thead th {\n",
       "        text-align: right;\n",
       "    }\n",
       "</style>\n",
       "<table border=\"1\" class=\"dataframe\">\n",
       "  <thead>\n",
       "    <tr style=\"text-align: right;\">\n",
       "      <th></th>\n",
       "      <th>age</th>\n",
       "      <th>anaemia</th>\n",
       "      <th>creatinine_phosphokinase</th>\n",
       "      <th>diabetes</th>\n",
       "      <th>ejection_fraction</th>\n",
       "      <th>high_blood_pressure</th>\n",
       "      <th>platelets</th>\n",
       "      <th>serum_creatinine</th>\n",
       "      <th>serum_sodium</th>\n",
       "      <th>sex</th>\n",
       "      <th>smoking</th>\n",
       "      <th>time</th>\n",
       "      <th>DEATH_EVENT</th>\n",
       "    </tr>\n",
       "  </thead>\n",
       "  <tbody>\n",
       "    <tr>\n",
       "      <th>count</th>\n",
       "      <td>299.000000</td>\n",
       "      <td>299.000000</td>\n",
       "      <td>299.000000</td>\n",
       "      <td>299.000000</td>\n",
       "      <td>299.000000</td>\n",
       "      <td>299.000000</td>\n",
       "      <td>299.000000</td>\n",
       "      <td>299.00000</td>\n",
       "      <td>299.000000</td>\n",
       "      <td>299.000000</td>\n",
       "      <td>299.00000</td>\n",
       "      <td>299.000000</td>\n",
       "      <td>299.00000</td>\n",
       "    </tr>\n",
       "    <tr>\n",
       "      <th>mean</th>\n",
       "      <td>60.833893</td>\n",
       "      <td>0.431438</td>\n",
       "      <td>581.839465</td>\n",
       "      <td>0.418060</td>\n",
       "      <td>38.083612</td>\n",
       "      <td>0.351171</td>\n",
       "      <td>263358.029264</td>\n",
       "      <td>1.39388</td>\n",
       "      <td>136.625418</td>\n",
       "      <td>0.648829</td>\n",
       "      <td>0.32107</td>\n",
       "      <td>130.260870</td>\n",
       "      <td>0.32107</td>\n",
       "    </tr>\n",
       "    <tr>\n",
       "      <th>std</th>\n",
       "      <td>11.894809</td>\n",
       "      <td>0.496107</td>\n",
       "      <td>970.287881</td>\n",
       "      <td>0.494067</td>\n",
       "      <td>11.834841</td>\n",
       "      <td>0.478136</td>\n",
       "      <td>97804.236869</td>\n",
       "      <td>1.03451</td>\n",
       "      <td>4.412477</td>\n",
       "      <td>0.478136</td>\n",
       "      <td>0.46767</td>\n",
       "      <td>77.614208</td>\n",
       "      <td>0.46767</td>\n",
       "    </tr>\n",
       "    <tr>\n",
       "      <th>min</th>\n",
       "      <td>40.000000</td>\n",
       "      <td>0.000000</td>\n",
       "      <td>23.000000</td>\n",
       "      <td>0.000000</td>\n",
       "      <td>14.000000</td>\n",
       "      <td>0.000000</td>\n",
       "      <td>25100.000000</td>\n",
       "      <td>0.50000</td>\n",
       "      <td>113.000000</td>\n",
       "      <td>0.000000</td>\n",
       "      <td>0.00000</td>\n",
       "      <td>4.000000</td>\n",
       "      <td>0.00000</td>\n",
       "    </tr>\n",
       "    <tr>\n",
       "      <th>25%</th>\n",
       "      <td>51.000000</td>\n",
       "      <td>0.000000</td>\n",
       "      <td>116.500000</td>\n",
       "      <td>0.000000</td>\n",
       "      <td>30.000000</td>\n",
       "      <td>0.000000</td>\n",
       "      <td>212500.000000</td>\n",
       "      <td>0.90000</td>\n",
       "      <td>134.000000</td>\n",
       "      <td>0.000000</td>\n",
       "      <td>0.00000</td>\n",
       "      <td>73.000000</td>\n",
       "      <td>0.00000</td>\n",
       "    </tr>\n",
       "    <tr>\n",
       "      <th>50%</th>\n",
       "      <td>60.000000</td>\n",
       "      <td>0.000000</td>\n",
       "      <td>250.000000</td>\n",
       "      <td>0.000000</td>\n",
       "      <td>38.000000</td>\n",
       "      <td>0.000000</td>\n",
       "      <td>262000.000000</td>\n",
       "      <td>1.10000</td>\n",
       "      <td>137.000000</td>\n",
       "      <td>1.000000</td>\n",
       "      <td>0.00000</td>\n",
       "      <td>115.000000</td>\n",
       "      <td>0.00000</td>\n",
       "    </tr>\n",
       "    <tr>\n",
       "      <th>75%</th>\n",
       "      <td>70.000000</td>\n",
       "      <td>1.000000</td>\n",
       "      <td>582.000000</td>\n",
       "      <td>1.000000</td>\n",
       "      <td>45.000000</td>\n",
       "      <td>1.000000</td>\n",
       "      <td>303500.000000</td>\n",
       "      <td>1.40000</td>\n",
       "      <td>140.000000</td>\n",
       "      <td>1.000000</td>\n",
       "      <td>1.00000</td>\n",
       "      <td>203.000000</td>\n",
       "      <td>1.00000</td>\n",
       "    </tr>\n",
       "    <tr>\n",
       "      <th>max</th>\n",
       "      <td>95.000000</td>\n",
       "      <td>1.000000</td>\n",
       "      <td>7861.000000</td>\n",
       "      <td>1.000000</td>\n",
       "      <td>80.000000</td>\n",
       "      <td>1.000000</td>\n",
       "      <td>850000.000000</td>\n",
       "      <td>9.40000</td>\n",
       "      <td>148.000000</td>\n",
       "      <td>1.000000</td>\n",
       "      <td>1.00000</td>\n",
       "      <td>285.000000</td>\n",
       "      <td>1.00000</td>\n",
       "    </tr>\n",
       "  </tbody>\n",
       "</table>\n",
       "</div>"
      ],
      "text/plain": [
       "              age     anaemia  creatinine_phosphokinase    diabetes  \\\n",
       "count  299.000000  299.000000                299.000000  299.000000   \n",
       "mean    60.833893    0.431438                581.839465    0.418060   \n",
       "std     11.894809    0.496107                970.287881    0.494067   \n",
       "min     40.000000    0.000000                 23.000000    0.000000   \n",
       "25%     51.000000    0.000000                116.500000    0.000000   \n",
       "50%     60.000000    0.000000                250.000000    0.000000   \n",
       "75%     70.000000    1.000000                582.000000    1.000000   \n",
       "max     95.000000    1.000000               7861.000000    1.000000   \n",
       "\n",
       "       ejection_fraction  high_blood_pressure      platelets  \\\n",
       "count         299.000000           299.000000     299.000000   \n",
       "mean           38.083612             0.351171  263358.029264   \n",
       "std            11.834841             0.478136   97804.236869   \n",
       "min            14.000000             0.000000   25100.000000   \n",
       "25%            30.000000             0.000000  212500.000000   \n",
       "50%            38.000000             0.000000  262000.000000   \n",
       "75%            45.000000             1.000000  303500.000000   \n",
       "max            80.000000             1.000000  850000.000000   \n",
       "\n",
       "       serum_creatinine  serum_sodium         sex    smoking        time  \\\n",
       "count         299.00000    299.000000  299.000000  299.00000  299.000000   \n",
       "mean            1.39388    136.625418    0.648829    0.32107  130.260870   \n",
       "std             1.03451      4.412477    0.478136    0.46767   77.614208   \n",
       "min             0.50000    113.000000    0.000000    0.00000    4.000000   \n",
       "25%             0.90000    134.000000    0.000000    0.00000   73.000000   \n",
       "50%             1.10000    137.000000    1.000000    0.00000  115.000000   \n",
       "75%             1.40000    140.000000    1.000000    1.00000  203.000000   \n",
       "max             9.40000    148.000000    1.000000    1.00000  285.000000   \n",
       "\n",
       "       DEATH_EVENT  \n",
       "count    299.00000  \n",
       "mean       0.32107  \n",
       "std        0.46767  \n",
       "min        0.00000  \n",
       "25%        0.00000  \n",
       "50%        0.00000  \n",
       "75%        1.00000  \n",
       "max        1.00000  "
      ]
     },
     "execution_count": 6,
     "metadata": {},
     "output_type": "execute_result"
    }
   ],
   "source": [
    "data.describe()"
   ]
  },
  {
   "cell_type": "code",
   "execution_count": 7,
   "metadata": {},
   "outputs": [
    {
     "data": {
      "text/plain": [
       "age                          47\n",
       "anaemia                       2\n",
       "creatinine_phosphokinase    208\n",
       "diabetes                      2\n",
       "ejection_fraction            17\n",
       "high_blood_pressure           2\n",
       "platelets                   176\n",
       "serum_creatinine             40\n",
       "serum_sodium                 27\n",
       "sex                           2\n",
       "smoking                       2\n",
       "time                        148\n",
       "DEATH_EVENT                   2\n",
       "dtype: int64"
      ]
     },
     "execution_count": 7,
     "metadata": {},
     "output_type": "execute_result"
    }
   ],
   "source": [
    "data.nunique()"
   ]
  },
  {
   "cell_type": "code",
   "execution_count": 8,
   "metadata": {},
   "outputs": [],
   "source": [
    "cat_data = [col for col in data.columns if data[col].nunique()<=2 ]\n",
    "num_data = [col for col in data.columns if data[col].nunique()>2 ]"
   ]
  },
  {
   "cell_type": "code",
   "execution_count": 9,
   "metadata": {
    "scrolled": false
   },
   "outputs": [
    {
     "data": {
      "image/png": "[encoded data removed]",
      "text/plain": [
       "<Figure size 1008x2520 with 14 Axes>"
      ]
     },
     "metadata": {
      "needs_background": "light"
     },
     "output_type": "display_data"
    }
   ],
   "source": [
    "c=1\n",
    "fig = plt.figure(figsize=(14,35))\n",
    "for i in num_data:\n",
    "    plt.subplot(7,2,c)\n",
    "    sns.boxplot(x=data['DEATH_EVENT'],y=data[i])\n",
    "    plt.title(i + ' Distribution by Death Event')\n",
    "    plt.xlabel('')\n",
    "    c=c+1\n",
    "\n",
    "    plt.subplot(7,2,c)\n",
    "    sns.distplot(data[i])\n",
    "    plt.title(i + ' Distribution')\n",
    "    plt.xlabel('')\n",
    "    c=c+1"
   ]
  },
  {
   "cell_type": "code",
   "execution_count": 10,
   "metadata": {},
   "outputs": [
    {
     "data": {
      "image/png": "[encoded data removed]",
      "text/plain": [
       "<Figure size 1008x2520 with 5 Axes>"
      ]
     },
     "metadata": {
      "needs_background": "light"
     },
     "output_type": "display_data"
    }
   ],
   "source": [
    "c = 1\n",
    "fig = plt.figure(figsize=(14,35))\n",
    "cat_data.remove('DEATH_EVENT')\n",
    "for i in cat_data:\n",
    "    newDF = pd.DataFrame(data.groupby(i)['DEATH_EVENT'].mean()).reset_index()\n",
    "    plt.subplot(6,2,c)\n",
    "    sns.barplot(x=newDF[i],y=newDF['DEATH_EVENT'])\n",
    "    plt.ylabel('% of people with Heart Failure')\n",
    "    c=c+1\n",
    "    del newDF"
   ]
  },
  {
   "cell_type": "code",
   "execution_count": 11,
   "metadata": {},
   "outputs": [
    {
     "data": {
      "text/plain": [
       "age                         0\n",
       "anaemia                     0\n",
       "creatinine_phosphokinase    0\n",
       "diabetes                    0\n",
       "ejection_fraction           0\n",
       "high_blood_pressure         0\n",
       "platelets                   0\n",
       "serum_creatinine            0\n",
       "serum_sodium                0\n",
       "sex                         0\n",
       "smoking                     0\n",
       "time                        0\n",
       "DEATH_EVENT                 0\n",
       "dtype: int64"
      ]
     },
     "execution_count": 11,
     "metadata": {},
     "output_type": "execute_result"
    }
   ],
   "source": [
    "data.isnull().sum()"
   ]
  },
  {
   "cell_type": "raw",
   "metadata": {},
   "source": [
    "By the above plots we can observe the following:\n",
    "\n",
    "Heart failure are most common in the age group from 55 to 75.\n",
    "Heart failure is common for the patients where ejection_fraction is in the range of 25 to 38.\n",
    "Herat failure is common where the follow up period is 25 to 102 days.\n",
    "Patients with Anemia and high blood pressure have more chances of getting heart failure."
   ]
  },
  {
   "cell_type": "markdown",
   "metadata": {},
   "source": [
    "# Data Modeling"
   ]
  },
  {
   "cell_type": "markdown",
   "metadata": {},
   "source": [
    "#### Decision Tree Classifier"
   ]
  },
  {
   "cell_type": "code",
   "execution_count": 12,
   "metadata": {},
   "outputs": [
    {
     "data": {
      "text/html": [
       "<div>\n",
       "<style scoped>\n",
       "    .dataframe tbody tr th:only-of-type {\n",
       "        vertical-align: middle;\n",
       "    }\n",
       "\n",
       "    .dataframe tbody tr th {\n",
       "        vertical-align: top;\n",
       "    }\n",
       "\n",
       "    .dataframe thead th {\n",
       "        text-align: right;\n",
       "    }\n",
       "</style>\n",
       "<table border=\"1\" class=\"dataframe\">\n",
       "  <thead>\n",
       "    <tr style=\"text-align: right;\">\n",
       "      <th></th>\n",
       "      <th>age</th>\n",
       "      <th>anaemia</th>\n",
       "      <th>creatinine_phosphokinase</th>\n",
       "      <th>diabetes</th>\n",
       "      <th>ejection_fraction</th>\n",
       "      <th>high_blood_pressure</th>\n",
       "      <th>platelets</th>\n",
       "      <th>serum_creatinine</th>\n",
       "      <th>serum_sodium</th>\n",
       "      <th>sex</th>\n",
       "      <th>smoking</th>\n",
       "      <th>time</th>\n",
       "      <th>DEATH_EVENT</th>\n",
       "    </tr>\n",
       "  </thead>\n",
       "  <tbody>\n",
       "    <tr>\n",
       "      <th>0</th>\n",
       "      <td>75.0</td>\n",
       "      <td>0</td>\n",
       "      <td>582</td>\n",
       "      <td>0</td>\n",
       "      <td>20</td>\n",
       "      <td>1</td>\n",
       "      <td>265000.00</td>\n",
       "      <td>1.9</td>\n",
       "      <td>130</td>\n",
       "      <td>1</td>\n",
       "      <td>0</td>\n",
       "      <td>4</td>\n",
       "      <td>1</td>\n",
       "    </tr>\n",
       "    <tr>\n",
       "      <th>1</th>\n",
       "      <td>55.0</td>\n",
       "      <td>0</td>\n",
       "      <td>7861</td>\n",
       "      <td>0</td>\n",
       "      <td>38</td>\n",
       "      <td>0</td>\n",
       "      <td>263358.03</td>\n",
       "      <td>1.1</td>\n",
       "      <td>136</td>\n",
       "      <td>1</td>\n",
       "      <td>0</td>\n",
       "      <td>6</td>\n",
       "      <td>1</td>\n",
       "    </tr>\n",
       "    <tr>\n",
       "      <th>2</th>\n",
       "      <td>65.0</td>\n",
       "      <td>0</td>\n",
       "      <td>146</td>\n",
       "      <td>0</td>\n",
       "      <td>20</td>\n",
       "      <td>0</td>\n",
       "      <td>162000.00</td>\n",
       "      <td>1.3</td>\n",
       "      <td>129</td>\n",
       "      <td>1</td>\n",
       "      <td>1</td>\n",
       "      <td>7</td>\n",
       "      <td>1</td>\n",
       "    </tr>\n",
       "    <tr>\n",
       "      <th>3</th>\n",
       "      <td>50.0</td>\n",
       "      <td>1</td>\n",
       "      <td>111</td>\n",
       "      <td>0</td>\n",
       "      <td>20</td>\n",
       "      <td>0</td>\n",
       "      <td>210000.00</td>\n",
       "      <td>1.9</td>\n",
       "      <td>137</td>\n",
       "      <td>1</td>\n",
       "      <td>0</td>\n",
       "      <td>7</td>\n",
       "      <td>1</td>\n",
       "    </tr>\n",
       "    <tr>\n",
       "      <th>4</th>\n",
       "      <td>65.0</td>\n",
       "      <td>1</td>\n",
       "      <td>160</td>\n",
       "      <td>1</td>\n",
       "      <td>20</td>\n",
       "      <td>0</td>\n",
       "      <td>327000.00</td>\n",
       "      <td>2.7</td>\n",
       "      <td>116</td>\n",
       "      <td>0</td>\n",
       "      <td>0</td>\n",
       "      <td>8</td>\n",
       "      <td>1</td>\n",
       "    </tr>\n",
       "  </tbody>\n",
       "</table>\n",
       "</div>"
      ],
      "text/plain": [
       "    age  anaemia  creatinine_phosphokinase  diabetes  ejection_fraction  \\\n",
       "0  75.0        0                       582         0                 20   \n",
       "1  55.0        0                      7861         0                 38   \n",
       "2  65.0        0                       146         0                 20   \n",
       "3  50.0        1                       111         0                 20   \n",
       "4  65.0        1                       160         1                 20   \n",
       "\n",
       "   high_blood_pressure  platelets  serum_creatinine  serum_sodium  sex  \\\n",
       "0                    1  265000.00               1.9           130    1   \n",
       "1                    0  263358.03               1.1           136    1   \n",
       "2                    0  162000.00               1.3           129    1   \n",
       "3                    0  210000.00               1.9           137    1   \n",
       "4                    0  327000.00               2.7           116    0   \n",
       "\n",
       "   smoking  time  DEATH_EVENT  \n",
       "0        0     4            1  \n",
       "1        0     6            1  \n",
       "2        1     7            1  \n",
       "3        0     7            1  \n",
       "4        0     8            1  "
      ]
     },
     "execution_count": 12,
     "metadata": {},
     "output_type": "execute_result"
    }
   ],
   "source": [
    "data.head()"
   ]
  },
  {
   "cell_type": "code",
   "execution_count": 13,
   "metadata": {},
   "outputs": [],
   "source": [
    "x = data.drop(columns=['DEATH_EVENT'])\n",
    "y = data['DEATH_EVENT']"
   ]
  },
  {
   "cell_type": "code",
   "execution_count": 14,
   "metadata": {},
   "outputs": [],
   "source": [
    "x_train,x_test,y_train,y_test = train_test_split(x,y,test_size =0.3,random_state = 21)"
   ]
  },
  {
   "cell_type": "code",
   "execution_count": 15,
   "metadata": {},
   "outputs": [
    {
     "name": "stdout",
     "output_type": "stream",
     "text": [
      "Training score : 0.9\n",
      "Test score     : 0.833\n",
      "Difference : 0.066\n"
     ]
    }
   ],
   "source": [
    "decision_tree = DecisionTreeClassifier(criterion='gini',max_depth=4,random_state=15)\n",
    "decision_tree.fit(x_train,y_train)\n",
    "train_score = decision_tree.score(x_train,y_train)\n",
    "print(\"Training score :\",round(train_score,3))\n",
    "test_score = decision_tree.score(x_test,y_test)\n",
    "print(\"Test score     :\",round(test_score,3))\n",
    "print('Difference :',round(train_score-test_score,3))"
   ]
  },
  {
   "cell_type": "code",
   "execution_count": 16,
   "metadata": {},
   "outputs": [
    {
     "name": "stdout",
     "output_type": "stream",
     "text": [
      "Training score : 0.9\n",
      "Test score     : 0.856\n",
      "Difference : 0.044\n"
     ]
    }
   ],
   "source": [
    "decision_tree = DecisionTreeClassifier(criterion='entropy',max_depth=4,random_state=15)\n",
    "decision_tree.fit(x_train,y_train)\n",
    "train_score = decision_tree.score(x_train,y_train)\n",
    "print(\"Training score :\",round(train_score,3))\n",
    "test_score = decision_tree.score(x_test,y_test)\n",
    "print(\"Test score     :\",round(test_score,3))\n",
    "print('Difference :',round(train_score-test_score,3))"
   ]
  },
  {
   "cell_type": "code",
   "execution_count": 17,
   "metadata": {},
   "outputs": [
    {
     "name": "stdout",
     "output_type": "stream",
     "text": [
      "Training score : 0.933\n",
      "Test score     : 0.844\n",
      "Difference : 0.089\n"
     ]
    }
   ],
   "source": [
    "decision_tree = DecisionTreeClassifier(criterion='entropy',max_depth=5,random_state=15)\n",
    "decision_tree.fit(x_train,y_train)\n",
    "train_score = decision_tree.score(x_train,y_train)\n",
    "print(\"Training score :\",round(train_score,3))\n",
    "test_score = decision_tree.score(x_test,y_test)\n",
    "print(\"Test score     :\",round(test_score,3))\n",
    "print('Difference :',round(train_score-test_score,3))"
   ]
  },
  {
   "cell_type": "code",
   "execution_count": 18,
   "metadata": {},
   "outputs": [
    {
     "name": "stdout",
     "output_type": "stream",
     "text": [
      "Training score : 0.967\n",
      "Test score     : 0.778\n",
      "Difference : 0.189\n"
     ]
    }
   ],
   "source": [
    "decision_tree = DecisionTreeClassifier(criterion='entropy',max_depth=6,random_state=15)\n",
    "decision_tree.fit(x_train,y_train)\n",
    "train_score = decision_tree.score(x_train,y_train)\n",
    "print(\"Training score :\",round(train_score,3))\n",
    "test_score = decision_tree.score(x_test,y_test)\n",
    "print(\"Test score     :\",round(test_score,3))\n",
    "print('Difference :',round(train_score-test_score,3))"
   ]
  },
  {
   "cell_type": "code",
   "execution_count": 19,
   "metadata": {},
   "outputs": [
    {
     "name": "stdout",
     "output_type": "stream",
     "text": [
      "Training score : 0.99\n",
      "Test score     : 0.778\n",
      "Difference : 0.213\n"
     ]
    }
   ],
   "source": [
    "decision_tree = DecisionTreeClassifier(criterion='entropy',max_depth=7,random_state=15)\n",
    "decision_tree.fit(x_train,y_train)\n",
    "train_score = decision_tree.score(x_train,y_train)\n",
    "print(\"Training score :\",round(train_score,3))\n",
    "test_score = decision_tree.score(x_test,y_test)\n",
    "print(\"Test score     :\",round(test_score,3))\n",
    "print('Difference :',round(train_score-test_score,3))"
   ]
  },
  {
   "cell_type": "code",
   "execution_count": 20,
   "metadata": {},
   "outputs": [
    {
     "name": "stdout",
     "output_type": "stream",
     "text": [
      "Training score : 1.0\n",
      "Test score     : 0.811\n",
      "Difference : 0.189\n"
     ]
    }
   ],
   "source": [
    "decision_tree = DecisionTreeClassifier(criterion='entropy',max_depth=8,random_state=15)\n",
    "decision_tree.fit(x_train,y_train)\n",
    "train_score = decision_tree.score(x_train,y_train)\n",
    "print(\"Training score :\",round(train_score,3))\n",
    "test_score = decision_tree.score(x_test,y_test)\n",
    "print(\"Test score     :\",round(test_score,3))\n",
    "print('Difference :',round(train_score-test_score,3))"
   ]
  },
  {
   "cell_type": "code",
   "execution_count": 21,
   "metadata": {},
   "outputs": [
    {
     "name": "stdout",
     "output_type": "stream",
     "text": [
      "Training score : 1.0\n",
      "Test score     : 0.811\n",
      "Difference : 0.189\n"
     ]
    }
   ],
   "source": [
    "decision_tree = DecisionTreeClassifier(criterion='entropy',max_depth=9,random_state=15)\n",
    "decision_tree.fit(x_train,y_train)\n",
    "train_score = decision_tree.score(x_train,y_train)\n",
    "print(\"Training score :\",round(train_score,3))\n",
    "test_score = decision_tree.score(x_test,y_test)\n",
    "print(\"Test score     :\",round(test_score,3))\n",
    "print('Difference :',round(train_score-test_score,3))"
   ]
  },
  {
   "cell_type": "code",
   "execution_count": 22,
   "metadata": {},
   "outputs": [],
   "source": [
    "#Using Gridsearch CV for hyper marameter tuning\n",
    "\n",
    "from sklearn.model_selection import GridSearchCV"
   ]
  },
  {
   "cell_type": "code",
   "execution_count": 23,
   "metadata": {},
   "outputs": [],
   "source": [
    "# params = {'criterion': ['entropy','gini'], 'max_depth': list(range(3,9))}\n",
    "# Decision_Tree = DecisionTreeClassifier(random_state=25)\n",
    "# clf = GridSearchCV(Decision_Tree,params,cv = 10, scoring='accuracy')\n",
    "# clf.fit(x_train,y_train)\n",
    "# print(clf.best_params_)\n",
    "# print(clf.best_score_)"
   ]
  },
  {
   "cell_type": "code",
   "execution_count": 24,
   "metadata": {},
   "outputs": [
    {
     "data": {
      "text/plain": [
       "DecisionTreeClassifier(criterion='entropy', max_depth=5, random_state=25)"
      ]
     },
     "execution_count": 24,
     "metadata": {},
     "output_type": "execute_result"
    }
   ],
   "source": [
    "# Building the model by the parameter determined by Gridsearch CV\n",
    "Decision_Tree = DecisionTreeClassifier(criterion='entropy',max_depth=5,random_state=25)\n",
    "Decision_Tree.fit(x_train,y_train)"
   ]
  },
  {
   "cell_type": "code",
   "execution_count": 25,
   "metadata": {},
   "outputs": [],
   "source": [
    "y_predicted_dt = Decision_Tree.predict(x_test)"
   ]
  },
  {
   "cell_type": "markdown",
   "metadata": {},
   "source": [
    "#### Performance Evaluation"
   ]
  },
  {
   "cell_type": "code",
   "execution_count": 26,
   "metadata": {},
   "outputs": [],
   "source": [
    "Accuracy_score = {}\n",
    "auc_data = {}\n",
    "\n"
   ]
  },
  {
   "cell_type": "code",
   "execution_count": 27,
   "metadata": {},
   "outputs": [
    {
     "name": "stdout",
     "output_type": "stream",
     "text": [
      "              precision    recall  f1-score   support\n",
      "\n",
      "           0       0.95      0.84      0.89        68\n",
      "           1       0.63      0.86      0.73        22\n",
      "\n",
      "    accuracy                           0.84        90\n",
      "   macro avg       0.79      0.85      0.81        90\n",
      "weighted avg       0.87      0.84      0.85        90\n",
      "\n"
     ]
    }
   ],
   "source": [
    "print(classification_report(y_test,y_predicted_dt))"
   ]
  },
  {
   "cell_type": "code",
   "execution_count": 28,
   "metadata": {},
   "outputs": [
    {
     "data": {
      "text/plain": [
       "Text(33.0, 0.5, 'Actual')"
      ]
     },
     "execution_count": 28,
     "metadata": {},
     "output_type": "execute_result"
    },
    {
     "data": {
      "image/png": "[encoded data removed]",
      "text/plain": [
       "<Figure size 432x288 with 2 Axes>"
      ]
     },
     "metadata": {
      "needs_background": "light"
     },
     "output_type": "display_data"
    }
   ],
   "source": [
    "sns.heatmap(confusion_matrix(y_test,y_predicted_dt),annot=True,cmap=\"coolwarm\")\n",
    "plt.xlabel('Predicted')\n",
    "plt.ylabel('Actual')"
   ]
  },
  {
   "cell_type": "raw",
   "metadata": {},
   "source": [
    "As the model aim is to predict the whether a person may have the heart failure or not,It is very essential for the model not to misclassify any patient as false if they have chances of heart failure. And it is okay even if the model predicts that any of the patient can have the heart failure even if they do not.\n",
    "So our aim here should be to minimize the Flase Negatives in the model"
   ]
  },
  {
   "cell_type": "code",
   "execution_count": 29,
   "metadata": {},
   "outputs": [
    {
     "name": "stdout",
     "output_type": "stream",
     "text": [
      "Accuracy Score of the model : 84.4 %\n"
     ]
    }
   ],
   "source": [
    "Accuracy_score = {'Decision Tree' : accuracy_score(y_test,y_predicted_dt)}\n",
    "print(\"Accuracy Score of the model :\",round(accuracy_score(y_test,y_predicted_dt)*100,1),\"%\")"
   ]
  },
  {
   "cell_type": "code",
   "execution_count": 30,
   "metadata": {},
   "outputs": [],
   "source": [
    "y_prob_dt= Decision_Tree.predict_proba(x_test)[:,1]\n",
    "fpr_dt,tpr_dt,thresholds_dt = roc_curve(y_test, y_prob_dt)\n",
    "roc_auc_dt = auc(fpr_dt, tpr_dt)"
   ]
  },
  {
   "cell_type": "code",
   "execution_count": 31,
   "metadata": {},
   "outputs": [
    {
     "data": {
      "image/png": "[encoded data removed]",
      "text/plain": [
       "<Figure size 432x288 with 1 Axes>"
      ]
     },
     "metadata": {
      "needs_background": "light"
     },
     "output_type": "display_data"
    }
   ],
   "source": [
    "plt.figure(1)\n",
    "lw = 2\n",
    "plt.plot(fpr_dt, tpr_dt, color='green',\n",
    "         lw=lw, label='Decision Tree(AUC = %0.2f)' % roc_auc_dt)\n",
    "plt.plot([0, 1], [0, 1], color='navy', lw=lw, linestyle='--')\n",
    "\n",
    "plt.xlim([0.0, 1.0])\n",
    "plt.ylim([0.0, 1.05])\n",
    "plt.xlabel('False Positive Rate')\n",
    "plt.ylabel('True Positive Rate')\n",
    "plt.title('Area Under Curve')\n",
    "plt.legend(loc=\"lower right\")\n",
    "plt.show()"
   ]
  },
  {
   "cell_type": "markdown",
   "metadata": {},
   "source": [
    "### Random Forest Classifier"
   ]
  },
  {
   "cell_type": "code",
   "execution_count": 32,
   "metadata": {},
   "outputs": [],
   "source": [
    "from sklearn.ensemble import RandomForestClassifier"
   ]
  },
  {
   "cell_type": "code",
   "execution_count": 33,
   "metadata": {},
   "outputs": [],
   "source": [
    "param_dist = {\n",
    "#               'max_depth': [2, 3, 4,5,6],\n",
    "#               'bootstrap': [True, False],\n",
    "#               'criterion': ['gini', 'entropy'],\n",
    "              'n_estimators' :[300,350,400,450,500,550,600,650,700,750,800,850,900]\n",
    "             }"
   ]
  },
  {
   "cell_type": "code",
   "execution_count": 34,
   "metadata": {},
   "outputs": [],
   "source": [
    "# Random_Forest = RandomForestClassifier(random_state=15)\n",
    "# gcv = GridSearchCV(Random_Forest,param_grid=param_dist,cv=10)\n",
    "# gcv.fit(x_train,y_train)\n",
    "# print('Best Parameters :' , gcv.best_params_)\n",
    "# print('Best scores :', gcv.best_score_)"
   ]
  },
  {
   "cell_type": "code",
   "execution_count": 35,
   "metadata": {},
   "outputs": [
    {
     "data": {
      "text/plain": [
       "RandomForestClassifier(criterion='entropy', max_depth=5, n_estimators=10,\n",
       "                       oob_score=True, random_state=15, warm_start=True)"
      ]
     },
     "execution_count": 35,
     "metadata": {},
     "output_type": "execute_result"
    }
   ],
   "source": [
    "# Finding the optimum n_estimators value by plotting n v/s OOB (Out of Bag) error rate\n",
    "\n",
    "Random_forest = RandomForestClassifier(max_depth=5,n_estimators=10,random_state=15,bootstrap=True,criterion='entropy')\n",
    "Random_forest.set_params(warm_start=True,oob_score=True)\n",
    "\n",
    "# error_rate = {}\n",
    "# for i in range(15,1001):\n",
    "#     Random_forest.set_params(n_estimators=i)\n",
    "#     Random_forest.fit(x_train,y_train)\n",
    "#     oob_error = 1-Random_forest.oob_score_\n",
    "#     error_rate[i]=oob_error"
   ]
  },
  {
   "cell_type": "code",
   "execution_count": 36,
   "metadata": {},
   "outputs": [],
   "source": [
    "# oob_series = pd.Series(error_rate)"
   ]
  },
  {
   "cell_type": "code",
   "execution_count": 37,
   "metadata": {},
   "outputs": [],
   "source": [
    "# fig, ax = plt.subplots(figsize=(10, 10))\n",
    "\n",
    "# ax.set_facecolor('#fafafa')\n",
    "\n",
    "# oob_series.plot(kind='line',color = 'red')\n",
    "# # plt.axhline(0.055, color='#875FDB',linestyle='--')\n",
    "# # plt.axhline(0.05, color='#875FDB',linestyle='--')\n",
    "# plt.xlabel('n_estimators')\n",
    "# plt.ylabel('OOB Error Rate')\n",
    "# plt.title('OOB Error Rate Across various Forest sizes \\n(From 15 to 1000 trees)')"
   ]
  },
  {
   "cell_type": "code",
   "execution_count": 38,
   "metadata": {},
   "outputs": [],
   "source": [
    "# as the above plot shows the optimum value of n is above 200 as the plots are almost contant after 200"
   ]
  },
  {
   "cell_type": "code",
   "execution_count": 39,
   "metadata": {},
   "outputs": [
    {
     "data": {
      "text/plain": [
       "RandomForestClassifier(criterion='entropy', max_depth=5, n_estimators=250,\n",
       "                       random_state=15)"
      ]
     },
     "execution_count": 39,
     "metadata": {},
     "output_type": "execute_result"
    }
   ],
   "source": [
    "# Using the parameters retuned by Grid search CV and n_estimator got by OOB plot we can build the model\n",
    "Random_forest = RandomForestClassifier(max_depth=5,n_estimators=250,random_state=15,bootstrap=True,criterion='entropy')\n",
    "Random_forest.fit(x_train,y_train)"
   ]
  },
  {
   "cell_type": "code",
   "execution_count": 40,
   "metadata": {},
   "outputs": [],
   "source": [
    "y_predict_rf = Random_forest.predict(x_test)\n",
    "y_predictProb_rf = Random_forest.predict_proba(x_test)[:,1]"
   ]
  },
  {
   "cell_type": "code",
   "execution_count": 41,
   "metadata": {},
   "outputs": [
    {
     "name": "stdout",
     "output_type": "stream",
     "text": [
      "              precision    recall  f1-score   support\n",
      "\n",
      "           0       0.95      0.88      0.92        68\n",
      "           1       0.70      0.86      0.78        22\n",
      "\n",
      "    accuracy                           0.88        90\n",
      "   macro avg       0.83      0.87      0.85        90\n",
      "weighted avg       0.89      0.88      0.88        90\n",
      "\n"
     ]
    }
   ],
   "source": [
    "print(classification_report(y_test,y_predict_rf))"
   ]
  },
  {
   "cell_type": "code",
   "execution_count": 42,
   "metadata": {},
   "outputs": [
    {
     "data": {
      "text/plain": [
       "Text(33.0, 0.5, 'Actual')"
      ]
     },
     "execution_count": 42,
     "metadata": {},
     "output_type": "execute_result"
    },
    {
     "data": {
      "image/png": "[encoded data removed]",
      "text/plain": [
       "<Figure size 432x288 with 2 Axes>"
      ]
     },
     "metadata": {
      "needs_background": "light"
     },
     "output_type": "display_data"
    }
   ],
   "source": [
    "sns.heatmap(confusion_matrix(y_test,y_predict_rf),annot=True,cmap=\"coolwarm\")\n",
    "plt.xlabel('Predicted')\n",
    "plt.ylabel('Actual')"
   ]
  },
  {
   "cell_type": "code",
   "execution_count": 43,
   "metadata": {},
   "outputs": [
    {
     "name": "stdout",
     "output_type": "stream",
     "text": [
      "Accuracy Score of the model : 87.8 %\n"
     ]
    }
   ],
   "source": [
    "Accuracy_score = {'Decision Tree' : accuracy_score(y_test,y_predict_rf)}\n",
    "print(\"Accuracy Score of the model :\",round(accuracy_score(y_test,y_predict_rf)*100,1),\"%\")"
   ]
  },
  {
   "cell_type": "code",
   "execution_count": 44,
   "metadata": {},
   "outputs": [],
   "source": [
    "fpr_rf,tpr_rf,threshold_rf = roc_curve(y_test,y_predictProb_rf)\n",
    "roc_auc_rf = auc(fpr_rf,tpr_rf)"
   ]
  },
  {
   "cell_type": "code",
   "execution_count": 45,
   "metadata": {},
   "outputs": [
    {
     "data": {
      "text/plain": [
       "0.9485294117647058"
      ]
     },
     "execution_count": 45,
     "metadata": {},
     "output_type": "execute_result"
    }
   ],
   "source": [
    "roc_auc_rf"
   ]
  },
  {
   "cell_type": "code",
   "execution_count": 46,
   "metadata": {},
   "outputs": [
    {
     "data": {
      "image/png": "[encoded data removed]",
      "text/plain": [
       "<Figure size 432x288 with 1 Axes>"
      ]
     },
     "metadata": {
      "needs_background": "light"
     },
     "output_type": "display_data"
    }
   ],
   "source": [
    "plt.figure(1)\n",
    "lw = 2\n",
    "plt.plot(fpr_dt, tpr_dt, color='green',\n",
    "         lw=lw, label='Decision Tree(AUC = %0.2f)' % roc_auc_dt)\n",
    "plt.plot([0, 1], [0, 1], color='navy', lw=lw, linestyle='--')\n",
    "plt.plot(fpr_rf, tpr_rf, color='Blue',\n",
    "         lw=lw, label='Random Forest(AUC = %0.2f)' % roc_auc_rf)\n",
    "\n",
    "plt.xlim([0.0, 1.0])\n",
    "plt.ylim([0.0, 1.05])\n",
    "plt.xlabel('False Positive Rate')\n",
    "plt.ylabel('True Positive Rate')\n",
    "plt.title('Area Under Curve')\n",
    "plt.legend(loc=\"lower right\")\n",
    "plt.show()"
   ]
  },
  {
   "cell_type": "markdown",
   "metadata": {},
   "source": [
    "### Logistic Regression"
   ]
  },
  {
   "cell_type": "code",
   "execution_count": 47,
   "metadata": {},
   "outputs": [],
   "source": [
    "from sklearn.linear_model import LogisticRegression\n",
    "from sklearn.preprocessing import StandardScaler"
   ]
  },
  {
   "cell_type": "code",
   "execution_count": 48,
   "metadata": {},
   "outputs": [
    {
     "name": "stderr",
     "output_type": "stream",
     "text": [
      "C:\\ProgramData\\Anaconda3\\lib\\site-packages\\sklearn\\linear_model\\_logistic.py:762: ConvergenceWarning: lbfgs failed to converge (status=1):\n",
      "STOP: TOTAL NO. of ITERATIONS REACHED LIMIT.\n",
      "\n",
      "Increase the number of iterations (max_iter) or scale the data as shown in:\n",
      "    https://scikit-learn.org/stable/modules/preprocessing.html\n",
      "Please also refer to the documentation for alternative solver options:\n",
      "    https://scikit-learn.org/stable/modules/linear_model.html#logistic-regression\n",
      "  n_iter_i = _check_optimize_result(\n"
     ]
    },
    {
     "data": {
      "text/plain": [
       "LogisticRegression()"
      ]
     },
     "execution_count": 48,
     "metadata": {},
     "output_type": "execute_result"
    }
   ],
   "source": [
    "Log_Regression = LogisticRegression()\n",
    "Log_Regression.fit(x_train,y_train)"
   ]
  },
  {
   "cell_type": "code",
   "execution_count": 49,
   "metadata": {},
   "outputs": [],
   "source": [
    "y_predicted_Log_reg = Log_Regression.predict(x_test)"
   ]
  },
  {
   "cell_type": "code",
   "execution_count": 50,
   "metadata": {},
   "outputs": [
    {
     "data": {
      "text/plain": [
       "0.8555555555555555"
      ]
     },
     "execution_count": 50,
     "metadata": {},
     "output_type": "execute_result"
    }
   ],
   "source": [
    "accuracy_score(y_test,y_predicted_Log_reg)"
   ]
  },
  {
   "cell_type": "code",
   "execution_count": 51,
   "metadata": {},
   "outputs": [
    {
     "name": "stdout",
     "output_type": "stream",
     "text": [
      "              precision    recall  f1-score   support\n",
      "\n",
      "           0       0.90      0.91      0.91        68\n",
      "           1       0.71      0.68      0.70        22\n",
      "\n",
      "    accuracy                           0.86        90\n",
      "   macro avg       0.81      0.80      0.80        90\n",
      "weighted avg       0.85      0.86      0.85        90\n",
      "\n"
     ]
    }
   ],
   "source": [
    "print(classification_report(y_test,y_predicted_Log_reg))"
   ]
  },
  {
   "cell_type": "code",
   "execution_count": 52,
   "metadata": {},
   "outputs": [
    {
     "data": {
      "text/plain": [
       "Text(33.0, 0.5, 'Actual')"
      ]
     },
     "execution_count": 52,
     "metadata": {},
     "output_type": "execute_result"
    },
    {
     "data": {
      "image/png": "[encoded data removed]",
      "text/plain": [
       "<Figure size 432x288 with 2 Axes>"
      ]
     },
     "metadata": {
      "needs_background": "light"
     },
     "output_type": "display_data"
    }
   ],
   "source": [
    "sns.heatmap(confusion_matrix(y_test,y_predicted_Log_reg),annot=True,cmap='coolwarm')\n",
    "plt.xlabel('Predicted')\n",
    "plt.ylabel('Actual')"
   ]
  },
  {
   "cell_type": "code",
   "execution_count": 53,
   "metadata": {},
   "outputs": [
    {
     "name": "stdout",
     "output_type": "stream",
     "text": [
      "Accuracy Score of the model : 85.6 %\n"
     ]
    }
   ],
   "source": [
    "print(\"Accuracy Score of the model :\",round(accuracy_score(y_test,y_predicted_Log_reg)*100,1),\"%\")"
   ]
  },
  {
   "cell_type": "code",
   "execution_count": 54,
   "metadata": {},
   "outputs": [],
   "source": [
    "y_Proba_LogReg = Log_Regression.predict_proba(x_test)[:,1]"
   ]
  },
  {
   "cell_type": "code",
   "execution_count": null,
   "metadata": {},
   "outputs": [],
   "source": []
  },
  {
   "cell_type": "code",
   "execution_count": 55,
   "metadata": {},
   "outputs": [
    {
     "data": {
      "text/plain": [
       "0.9131016042780749"
      ]
     },
     "execution_count": 55,
     "metadata": {},
     "output_type": "execute_result"
    }
   ],
   "source": [
    "fpr_lr,tpr_lr,Threshold_lr = roc_curve(y_test,y_Proba_LogReg)\n",
    "roc_auc_lr = auc(fpr_lr,tpr_lr)\n",
    "roc_auc_lr"
   ]
  },
  {
   "cell_type": "code",
   "execution_count": 56,
   "metadata": {},
   "outputs": [
    {
     "data": {
      "image/png": "[encoded data removed]",
      "text/plain": [
       "<Figure size 720x432 with 1 Axes>"
      ]
     },
     "metadata": {
      "needs_background": "light"
     },
     "output_type": "display_data"
    }
   ],
   "source": [
    "plt.figure(figsize=(10,6))\n",
    "lw = 2\n",
    "plt.plot(fpr_dt, tpr_dt, color='green',\n",
    "         lw=lw, label='Decision Tree(AUC = %0.2f)' % roc_auc_dt)\n",
    "plt.plot([0, 1], [0, 1], color='navy', lw=lw, linestyle='--')\n",
    "plt.plot(fpr_rf, tpr_rf, color='Blue',\n",
    "         lw=lw, label='Random Forest(AUC = %0.2f)' % roc_auc_rf)\n",
    "plt.plot(fpr_lr, tpr_lr, color='red',\n",
    "         lw=lw, label='Logistic Regression(AUC = %0.2f)' % roc_auc_lr)\n",
    "\n",
    "plt.xlim([0.0, 1.0])\n",
    "plt.ylim([0.0, 1.05])\n",
    "plt.xlabel('False Positive Rate')\n",
    "plt.ylabel('True Positive Rate')\n",
    "plt.title('Area Under Curve')\n",
    "plt.legend(loc=\"lower right\")\n",
    "plt.show()"
   ]
  },
  {
   "cell_type": "code",
   "execution_count": 57,
   "metadata": {},
   "outputs": [],
   "source": [
    "# Checking the same model by standardizing the data"
   ]
  },
  {
   "cell_type": "code",
   "execution_count": 58,
   "metadata": {},
   "outputs": [],
   "source": [
    "sc = StandardScaler()\n",
    "x_train_std = sc.fit_transform(x_train)\n",
    "x_test_std = sc.fit_transform(x_test)"
   ]
  },
  {
   "cell_type": "code",
   "execution_count": 59,
   "metadata": {},
   "outputs": [
    {
     "data": {
      "text/plain": [
       "LogisticRegression()"
      ]
     },
     "execution_count": 59,
     "metadata": {},
     "output_type": "execute_result"
    }
   ],
   "source": [
    "Log_Regression_std = LogisticRegression()\n",
    "Log_Regression_std.fit(x_train_std,y_train)\n"
   ]
  },
  {
   "cell_type": "code",
   "execution_count": 60,
   "metadata": {},
   "outputs": [],
   "source": [
    "y_predicted_Log_reg_std = Log_Regression_std.predict(x_test_std)"
   ]
  },
  {
   "cell_type": "code",
   "execution_count": 61,
   "metadata": {},
   "outputs": [
    {
     "data": {
      "text/plain": [
       "0.8777777777777778"
      ]
     },
     "execution_count": 61,
     "metadata": {},
     "output_type": "execute_result"
    }
   ],
   "source": [
    "accuracy_score(y_test,y_predicted_Log_reg_std)"
   ]
  },
  {
   "cell_type": "code",
   "execution_count": 62,
   "metadata": {},
   "outputs": [
    {
     "name": "stdout",
     "output_type": "stream",
     "text": [
      "              precision    recall  f1-score   support\n",
      "\n",
      "           0       0.93      0.91      0.92        68\n",
      "           1       0.74      0.77      0.76        22\n",
      "\n",
      "    accuracy                           0.88        90\n",
      "   macro avg       0.83      0.84      0.84        90\n",
      "weighted avg       0.88      0.88      0.88        90\n",
      "\n"
     ]
    }
   ],
   "source": [
    "print(classification_report(y_test,y_predicted_Log_reg_std))"
   ]
  },
  {
   "cell_type": "code",
   "execution_count": 63,
   "metadata": {},
   "outputs": [
    {
     "data": {
      "text/plain": [
       "Text(33.0, 0.5, 'Actual')"
      ]
     },
     "execution_count": 63,
     "metadata": {},
     "output_type": "execute_result"
    },
    {
     "data": {
      "image/png": "[encoded data removed]",
      "text/plain": [
       "<Figure size 432x288 with 2 Axes>"
      ]
     },
     "metadata": {
      "needs_background": "light"
     },
     "output_type": "display_data"
    }
   ],
   "source": [
    "sns.heatmap(confusion_matrix(y_test,y_predicted_Log_reg_std),annot=True,cmap='coolwarm')\n",
    "plt.xlabel('Predicted')\n",
    "plt.ylabel('Actual')"
   ]
  },
  {
   "cell_type": "code",
   "execution_count": 64,
   "metadata": {},
   "outputs": [
    {
     "name": "stdout",
     "output_type": "stream",
     "text": [
      "Accuracy Score of the model : 87.8 %\n"
     ]
    }
   ],
   "source": [
    "print(\"Accuracy Score of the model :\",round(accuracy_score(y_test,y_predicted_Log_reg_std)*100,1),\"%\")"
   ]
  },
  {
   "cell_type": "code",
   "execution_count": 65,
   "metadata": {},
   "outputs": [],
   "source": [
    "y_Proba_LogReg_std = Log_Regression_std.predict_proba(x_test_std)[:,1]"
   ]
  },
  {
   "cell_type": "code",
   "execution_count": 66,
   "metadata": {},
   "outputs": [
    {
     "data": {
      "text/plain": [
       "0.9057486631016043"
      ]
     },
     "execution_count": 66,
     "metadata": {},
     "output_type": "execute_result"
    }
   ],
   "source": [
    "fpr_lr_std,tpr_lr_std,Threshold_lr_std = roc_curve(y_test,y_Proba_LogReg_std)\n",
    "roc_auc_lr_std = auc(fpr_lr_std,tpr_lr_std)\n",
    "roc_auc_lr_std"
   ]
  },
  {
   "cell_type": "code",
   "execution_count": 67,
   "metadata": {},
   "outputs": [
    {
     "data": {
      "image/png": "[encoded data removed]",
      "text/plain": [
       "<Figure size 720x432 with 1 Axes>"
      ]
     },
     "metadata": {
      "needs_background": "light"
     },
     "output_type": "display_data"
    }
   ],
   "source": [
    "plt.figure(figsize=(10,6))\n",
    "lw = 2\n",
    "\n",
    "plt.plot([0, 1], [0, 1], color='navy', lw=lw, linestyle='--')\n",
    "\n",
    "plt.plot(fpr_lr, tpr_lr, color='red',\n",
    "         lw=lw, label='Logistic Regression(AUC = %0.2f)' % roc_auc_lr)\n",
    "\n",
    "plt.plot(fpr_lr_std, tpr_lr_std, color='blue',\n",
    "         lw=lw, label='Logistic Regression_STD (AUC = %0.2f)' % roc_auc_lr_std)\n",
    "\n",
    "plt.xlim([0.0, 1.0])\n",
    "plt.ylim([0.0, 1.05])\n",
    "plt.xlabel('False Positive Rate')\n",
    "plt.ylabel('True Positive Rate')\n",
    "plt.title('Area Under Curve')\n",
    "plt.legend(loc=\"lower right\")\n",
    "plt.show()"
   ]
  },
  {
   "cell_type": "markdown",
   "metadata": {},
   "source": [
    "## K-Nearest Neighbor"
   ]
  },
  {
   "cell_type": "code",
   "execution_count": 68,
   "metadata": {},
   "outputs": [],
   "source": [
    "from sklearn.neighbors import KNeighborsClassifier"
   ]
  },
  {
   "cell_type": "code",
   "execution_count": 69,
   "metadata": {},
   "outputs": [],
   "source": [
    "# We should find the optimum value of K"
   ]
  },
  {
   "cell_type": "code",
   "execution_count": 70,
   "metadata": {},
   "outputs": [],
   "source": [
    "# error = []\n",
    "# for i in range(1,40):\n",
    "#     KNN = KNeighborsClassifier(n_neighbors = i)\n",
    "#     KNN.fit(x_train_std,y_train)\n",
    "#     pred_i = KNN.predict(x_test_std)\n",
    "#     error.append(np.mean(pred_i != y_test))"
   ]
  },
  {
   "cell_type": "code",
   "execution_count": 71,
   "metadata": {},
   "outputs": [],
   "source": [
    "# plt.figure(figsize=(10,6))\n",
    "# plt.plot(range(1,40),error,marker='o')"
   ]
  },
  {
   "cell_type": "code",
   "execution_count": 76,
   "metadata": {},
   "outputs": [
    {
     "data": {
      "text/plain": [
       "KNeighborsClassifier(n_neighbors=25)"
      ]
     },
     "execution_count": 76,
     "metadata": {},
     "output_type": "execute_result"
    }
   ],
   "source": [
    "# K is constant at n =25\n",
    "KNN = KNeighborsClassifier(n_neighbors = 25)\n",
    "KNN.fit(x_train_std,y_train)"
   ]
  },
  {
   "cell_type": "code",
   "execution_count": 77,
   "metadata": {},
   "outputs": [],
   "source": [
    "y_predicted_KNN = KNN.predict(x_test_std)\n",
    "y_prob_KNN = KNN.predict_proba(x_test_std)[:,1]"
   ]
  },
  {
   "cell_type": "code",
   "execution_count": 78,
   "metadata": {},
   "outputs": [
    {
     "data": {
      "text/plain": [
       "0.8333333333333334"
      ]
     },
     "execution_count": 78,
     "metadata": {},
     "output_type": "execute_result"
    }
   ],
   "source": [
    "accuracy_score(y_test,y_predicted_KNN)"
   ]
  },
  {
   "cell_type": "code",
   "execution_count": 79,
   "metadata": {},
   "outputs": [
    {
     "name": "stdout",
     "output_type": "stream",
     "text": [
      "              precision    recall  f1-score   support\n",
      "\n",
      "           0       0.83      0.99      0.90        68\n",
      "           1       0.89      0.36      0.52        22\n",
      "\n",
      "    accuracy                           0.83        90\n",
      "   macro avg       0.86      0.67      0.71        90\n",
      "weighted avg       0.84      0.83      0.81        90\n",
      "\n"
     ]
    }
   ],
   "source": [
    "print(classification_report(y_test,y_predicted_KNN))"
   ]
  },
  {
   "cell_type": "code",
   "execution_count": 80,
   "metadata": {},
   "outputs": [
    {
     "data": {
      "text/plain": [
       "<matplotlib.axes._subplots.AxesSubplot at 0x2e8dc156c70>"
      ]
     },
     "execution_count": 80,
     "metadata": {},
     "output_type": "execute_result"
    },
    {
     "data": {
      "image/png": "[encoded data removed]",
      "text/plain": [
       "<Figure size 432x288 with 2 Axes>"
      ]
     },
     "metadata": {
      "needs_background": "light"
     },
     "output_type": "display_data"
    }
   ],
   "source": [
    "sns.heatmap(confusion_matrix(y_test,y_predicted_KNN),annot=True,cmap='coolwarm')"
   ]
  },
  {
   "cell_type": "code",
   "execution_count": 81,
   "metadata": {},
   "outputs": [
    {
     "data": {
      "text/plain": [
       "0.8723262032085561"
      ]
     },
     "execution_count": 81,
     "metadata": {},
     "output_type": "execute_result"
    }
   ],
   "source": [
    "fpr_KNN,tpr_KNN,threshold = roc_curve(y_test,y_prob_KNN)\n",
    "roc_auc_KNN = auc(fpr_KNN,tpr_KNN)\n",
    "roc_auc_KNN"
   ]
  },
  {
   "cell_type": "code",
   "execution_count": 82,
   "metadata": {},
   "outputs": [
    {
     "data": {
      "image/png": "[encoded data removed]",
      "text/plain": [
       "<Figure size 720x432 with 1 Axes>"
      ]
     },
     "metadata": {
      "needs_background": "light"
     },
     "output_type": "display_data"
    }
   ],
   "source": [
    "plt.figure(figsize=(10,6))\n",
    "lw = 2\n",
    "plt.plot(fpr_dt, tpr_dt, color='green',\n",
    "         lw=lw, label='Decision Tree(AUC = %0.2f)' % roc_auc_dt)\n",
    "plt.plot([0, 1], [0, 1], color='navy', lw=lw, linestyle='--')\n",
    "plt.plot(fpr_rf, tpr_rf, color='Blue',\n",
    "         lw=lw, label='Random Forest(AUC = %0.2f)' % roc_auc_rf)\n",
    "plt.plot(fpr_lr, tpr_lr, color='red',\n",
    "         lw=lw, label='Logistic Regression(AUC = %0.2f)' % roc_auc_lr)\n",
    "plt.plot(fpr_KNN, tpr_KNN, color='black',\n",
    "         lw=lw, label='KNN(AUC = %0.2f)' % roc_auc_KNN)\n",
    "\n",
    "plt.xlim([0.0, 1.0])\n",
    "plt.ylim([0.0, 1.05])\n",
    "plt.xlabel('False Positive Rate')\n",
    "plt.ylabel('True Positive Rate')\n",
    "plt.title('Area Under Curve')\n",
    "plt.legend(loc=\"lower right\")\n",
    "plt.show()"
   ]
  },
  {
   "cell_type": "markdown",
   "metadata": {},
   "source": [
    "## SVM"
   ]
  },
  {
   "cell_type": "code",
   "execution_count": 83,
   "metadata": {},
   "outputs": [],
   "source": [
    "from sklearn.svm import SVC"
   ]
  },
  {
   "cell_type": "code",
   "execution_count": 84,
   "metadata": {},
   "outputs": [],
   "source": [
    "# we have to find the optimum value of C and Gamma"
   ]
  },
  {
   "cell_type": "code",
   "execution_count": 89,
   "metadata": {},
   "outputs": [],
   "source": [
    "svm = SVC(random_state=42)"
   ]
  },
  {
   "cell_type": "code",
   "execution_count": 90,
   "metadata": {},
   "outputs": [
    {
     "name": "stdout",
     "output_type": "stream",
     "text": [
      "0.1 0.645933014354067 0.7555555555555555\n",
      "0.2 0.722488038277512 0.7777777777777778\n",
      "0.3 0.8277511961722488 0.8444444444444444\n",
      "0.4 0.84688995215311 0.8333333333333334\n",
      "0.5 0.8516746411483254 0.8444444444444444\n",
      "0.6 0.8708133971291866 0.8555555555555555\n",
      "0.7 0.8899521531100478 0.8444444444444444\n",
      "0.8 0.8899521531100478 0.8444444444444444\n",
      "0.9 0.9043062200956937 0.8444444444444444\n",
      "1.0 0.9043062200956937 0.8444444444444444\n",
      "1.1 0.9043062200956937 0.8444444444444444\n",
      "1.2 0.9043062200956937 0.8444444444444444\n",
      "1.3 0.9090909090909091 0.8444444444444444\n",
      "1.4 0.9138755980861244 0.8444444444444444\n",
      "1.5 0.9138755980861244 0.8444444444444444\n",
      "1.6 0.9138755980861244 0.8333333333333334\n",
      "1.7 0.9186602870813397 0.8333333333333334\n",
      "1.8 0.9282296650717703 0.8333333333333334\n",
      "1.9 0.9282296650717703 0.8222222222222222\n",
      "2.0 0.9282296650717703 0.8222222222222222\n",
      "2.1 0.9282296650717703 0.8111111111111111\n",
      "2.2 0.9234449760765551 0.8111111111111111\n",
      "2.3 0.9282296650717703 0.8\n",
      "2.4 0.9330143540669856 0.7888888888888889\n",
      "2.5 0.9330143540669856 0.7888888888888889\n",
      "2.6 0.9425837320574163 0.7888888888888889\n",
      "2.7 0.9425837320574163 0.7888888888888889\n",
      "2.8 0.9425837320574163 0.7888888888888889\n",
      "2.9 0.9473684210526315 0.8\n",
      "3.0 0.9473684210526315 0.8\n",
      "3.1 0.9473684210526315 0.8\n",
      "3.2 0.9473684210526315 0.8\n",
      "3.3 0.9473684210526315 0.8\n",
      "3.4 0.9521531100478469 0.8\n",
      "3.5 0.9521531100478469 0.8\n",
      "3.6 0.9521531100478469 0.8\n",
      "3.7 0.9569377990430622 0.8\n",
      "3.8 0.9569377990430622 0.8\n",
      "3.9 0.9569377990430622 0.8\n",
      "4.0 0.9569377990430622 0.8\n",
      "4.1 0.9569377990430622 0.8\n",
      "4.2 0.9569377990430622 0.8\n",
      "4.3 0.9569377990430622 0.8\n",
      "4.4 0.9617224880382775 0.8\n",
      "4.5 0.9617224880382775 0.8\n",
      "4.6 0.9617224880382775 0.8\n",
      "4.7 0.9617224880382775 0.8\n",
      "4.8 0.9617224880382775 0.8\n",
      "4.9 0.9617224880382775 0.8\n",
      "5.0 0.9617224880382775 0.8\n",
      "5.1 0.9617224880382775 0.8\n",
      "5.2 0.9617224880382775 0.8\n",
      "5.3 0.9665071770334929 0.8\n",
      "5.4 0.9665071770334929 0.8111111111111111\n",
      "5.5 0.9665071770334929 0.8111111111111111\n",
      "5.6 0.9665071770334929 0.8111111111111111\n",
      "5.7 0.9665071770334929 0.8111111111111111\n",
      "5.8 0.9665071770334929 0.8111111111111111\n",
      "5.9 0.9665071770334929 0.8111111111111111\n",
      "6.0 0.9665071770334929 0.8111111111111111\n",
      "6.1 0.9665071770334929 0.8111111111111111\n",
      "6.2 0.9665071770334929 0.8111111111111111\n",
      "6.3 0.9712918660287081 0.8222222222222222\n",
      "6.4 0.9712918660287081 0.8222222222222222\n",
      "6.5 0.9712918660287081 0.8222222222222222\n",
      "6.6 0.9712918660287081 0.8111111111111111\n",
      "6.7 0.9712918660287081 0.8111111111111111\n",
      "6.8 0.9760765550239234 0.8111111111111111\n",
      "6.9 0.9760765550239234 0.8111111111111111\n",
      "7.0 0.9760765550239234 0.8111111111111111\n",
      "7.1 0.9760765550239234 0.8111111111111111\n",
      "7.2 0.9760765550239234 0.8111111111111111\n",
      "7.3 0.9760765550239234 0.8111111111111111\n",
      "7.4 0.9760765550239234 0.8111111111111111\n",
      "7.5 0.9760765550239234 0.8111111111111111\n",
      "7.6 0.9808612440191388 0.8111111111111111\n",
      "7.7 0.9808612440191388 0.8111111111111111\n",
      "7.8 0.9808612440191388 0.8111111111111111\n",
      "7.9 0.9808612440191388 0.8111111111111111\n",
      "8.0 0.9808612440191388 0.8111111111111111\n",
      "8.1 0.9856459330143541 0.8111111111111111\n",
      "8.2 0.9856459330143541 0.8111111111111111\n",
      "8.3 0.9856459330143541 0.8111111111111111\n",
      "8.4 0.9856459330143541 0.8111111111111111\n",
      "8.5 0.9856459330143541 0.8111111111111111\n",
      "8.6 0.9856459330143541 0.8111111111111111\n",
      "8.7 0.9856459330143541 0.8111111111111111\n",
      "8.8 0.9856459330143541 0.8111111111111111\n",
      "8.9 0.9856459330143541 0.8111111111111111\n",
      "9.0 0.9856459330143541 0.8111111111111111\n",
      "9.1 0.9856459330143541 0.8111111111111111\n",
      "9.2 0.9856459330143541 0.8111111111111111\n",
      "9.3 0.9856459330143541 0.8111111111111111\n",
      "9.4 0.9856459330143541 0.8111111111111111\n",
      "9.5 0.9856459330143541 0.8111111111111111\n",
      "9.6 0.9856459330143541 0.8111111111111111\n",
      "9.7 0.9856459330143541 0.8111111111111111\n",
      "9.8 0.9856459330143541 0.8111111111111111\n",
      "9.9 0.9856459330143541 0.8111111111111111\n"
     ]
    }
   ],
   "source": [
    "c_range = [i/10 for i in range(1,100)]\n",
    "\n",
    "for c in c_range:\n",
    "    svm.set_params(C=c)\n",
    "    svm.fit(x_train_std,y_train)\n",
    "    print(c,svm.score(x_train_std,y_train),svm.score(x_test_std,y_test))"
   ]
  },
  {
   "cell_type": "code",
   "execution_count": 91,
   "metadata": {},
   "outputs": [
    {
     "name": "stdout",
     "output_type": "stream",
     "text": [
      "0.01 0.645933014354067 0.7555555555555555\n",
      "0.02 0.645933014354067 0.7555555555555555\n",
      "0.03 0.645933014354067 0.7555555555555555\n",
      "0.04 0.645933014354067 0.7555555555555555\n",
      "0.05 0.645933014354067 0.7555555555555555\n",
      "0.06 0.645933014354067 0.7555555555555555\n",
      "0.07 0.645933014354067 0.7555555555555555\n",
      "0.08 0.645933014354067 0.7555555555555555\n",
      "0.09 0.645933014354067 0.7555555555555555\n",
      "0.1 0.645933014354067 0.7555555555555555\n",
      "0.11 0.645933014354067 0.7555555555555555\n",
      "0.12 0.645933014354067 0.7555555555555555\n",
      "0.13 0.645933014354067 0.7555555555555555\n",
      "0.14 0.6507177033492823 0.7555555555555555\n",
      "0.15 0.6555023923444976 0.7555555555555555\n",
      "0.16 0.6746411483253588 0.7555555555555555\n",
      "0.17 0.6794258373205742 0.7666666666666667\n",
      "0.18 0.6889952153110048 0.7777777777777778\n",
      "0.19 0.7033492822966507 0.7777777777777778\n",
      "0.2 0.722488038277512 0.7777777777777778\n",
      "0.21 0.722488038277512 0.7777777777777778\n",
      "0.22 0.7272727272727273 0.7666666666666667\n",
      "0.23 0.7320574162679426 0.7777777777777778\n",
      "0.24 0.7464114832535885 0.7888888888888889\n",
      "0.25 0.7655502392344498 0.7888888888888889\n",
      "0.26 0.7751196172248804 0.8\n",
      "0.27 0.7894736842105263 0.8222222222222222\n",
      "0.28 0.8086124401913876 0.8333333333333334\n",
      "0.29 0.8229665071770335 0.8333333333333334\n",
      "0.3 0.8277511961722488 0.8444444444444444\n",
      "0.31 0.8325358851674641 0.8444444444444444\n",
      "0.32 0.8421052631578947 0.8444444444444444\n",
      "0.33 0.8421052631578947 0.8555555555555555\n",
      "0.34 0.8421052631578947 0.8555555555555555\n",
      "0.35 0.8421052631578947 0.8444444444444444\n",
      "0.36 0.8373205741626795 0.8444444444444444\n",
      "0.37 0.8421052631578947 0.8444444444444444\n",
      "0.38 0.84688995215311 0.8444444444444444\n",
      "0.39 0.84688995215311 0.8444444444444444\n",
      "0.4 0.84688995215311 0.8333333333333334\n",
      "0.41 0.84688995215311 0.8333333333333334\n",
      "0.42 0.84688995215311 0.8333333333333334\n",
      "0.43 0.84688995215311 0.8444444444444444\n",
      "0.44 0.84688995215311 0.8444444444444444\n",
      "0.45 0.8421052631578947 0.8444444444444444\n",
      "0.46 0.8421052631578947 0.8444444444444444\n",
      "0.47 0.8421052631578947 0.8444444444444444\n",
      "0.48 0.8421052631578947 0.8444444444444444\n",
      "0.49 0.8373205741626795 0.8444444444444444\n",
      "0.5 0.8516746411483254 0.8444444444444444\n",
      "0.51 0.8564593301435407 0.8555555555555555\n",
      "0.52 0.8564593301435407 0.8555555555555555\n",
      "0.53 0.8564593301435407 0.8555555555555555\n",
      "0.54 0.8660287081339713 0.8666666666666667\n",
      "0.55 0.8660287081339713 0.8555555555555555\n",
      "0.56 0.8660287081339713 0.8555555555555555\n",
      "0.57 0.8708133971291866 0.8555555555555555\n",
      "0.58 0.8708133971291866 0.8555555555555555\n",
      "0.59 0.8708133971291866 0.8555555555555555\n",
      "0.6 0.8708133971291866 0.8555555555555555\n",
      "0.61 0.8755980861244019 0.8555555555555555\n",
      "0.62 0.8755980861244019 0.8555555555555555\n",
      "0.63 0.8755980861244019 0.8555555555555555\n",
      "0.64 0.8803827751196173 0.8555555555555555\n",
      "0.65 0.8803827751196173 0.8555555555555555\n",
      "0.66 0.8803827751196173 0.8555555555555555\n",
      "0.67 0.8851674641148325 0.8555555555555555\n",
      "0.68 0.8851674641148325 0.8555555555555555\n",
      "0.69 0.8899521531100478 0.8444444444444444\n",
      "0.7 0.8899521531100478 0.8444444444444444\n",
      "0.71 0.8899521531100478 0.8444444444444444\n",
      "0.72 0.8899521531100478 0.8444444444444444\n",
      "0.73 0.8851674641148325 0.8444444444444444\n",
      "0.74 0.8851674641148325 0.8444444444444444\n",
      "0.75 0.8851674641148325 0.8444444444444444\n",
      "0.76 0.8851674641148325 0.8444444444444444\n",
      "0.77 0.8851674641148325 0.8444444444444444\n",
      "0.78 0.8851674641148325 0.8444444444444444\n",
      "0.79 0.8899521531100478 0.8444444444444444\n",
      "0.8 0.8899521531100478 0.8444444444444444\n",
      "0.81 0.8899521531100478 0.8444444444444444\n",
      "0.82 0.8899521531100478 0.8444444444444444\n",
      "0.83 0.8899521531100478 0.8444444444444444\n",
      "0.84 0.8899521531100478 0.8444444444444444\n",
      "0.85 0.8899521531100478 0.8444444444444444\n",
      "0.86 0.8947368421052632 0.8444444444444444\n",
      "0.87 0.8995215311004785 0.8444444444444444\n",
      "0.88 0.8995215311004785 0.8444444444444444\n",
      "0.89 0.8995215311004785 0.8444444444444444\n",
      "0.9 0.9043062200956937 0.8444444444444444\n",
      "0.91 0.9043062200956937 0.8444444444444444\n",
      "0.92 0.9043062200956937 0.8444444444444444\n",
      "0.93 0.9043062200956937 0.8444444444444444\n",
      "0.94 0.9043062200956937 0.8444444444444444\n",
      "0.95 0.9043062200956937 0.8444444444444444\n",
      "0.96 0.9043062200956937 0.8444444444444444\n",
      "0.97 0.9043062200956937 0.8444444444444444\n",
      "0.98 0.9043062200956937 0.8444444444444444\n",
      "0.99 0.9043062200956937 0.8444444444444444\n"
     ]
    }
   ],
   "source": [
    "c_range = [i/100 for i in range(1,100)]\n",
    "\n",
    "for c in c_range:\n",
    "    svm.set_params(C=c)\n",
    "    svm.fit(x_train_std,y_train)\n",
    "    print(c,svm.score(x_train_std,y_train),svm.score(x_test_std,y_test))"
   ]
  },
  {
   "cell_type": "code",
   "execution_count": 92,
   "metadata": {},
   "outputs": [],
   "source": [
    "# c=0.44"
   ]
  },
  {
   "cell_type": "code",
   "execution_count": 94,
   "metadata": {
    "scrolled": true
   },
   "outputs": [
    {
     "name": "stdout",
     "output_type": "stream",
     "text": [
      "0.01 0.8086124401913876 0.8777777777777778\n",
      "0.02 0.8277511961722488 0.8888888888888888\n",
      "0.03 0.8421052631578947 0.8666666666666667\n",
      "0.04 0.8516746411483254 0.8666666666666667\n",
      "0.05 0.8708133971291866 0.8555555555555555\n",
      "0.06 0.8755980861244019 0.8444444444444444\n",
      "0.07 0.8851674641148325 0.8444444444444444\n",
      "0.08 0.9043062200956937 0.8444444444444444\n",
      "0.09 0.9043062200956937 0.8444444444444444\n",
      "0.1 0.9090909090909091 0.8444444444444444\n",
      "0.11 0.9138755980861244 0.8444444444444444\n",
      "0.12 0.9234449760765551 0.8444444444444444\n",
      "0.13 0.937799043062201 0.8444444444444444\n",
      "0.14 0.937799043062201 0.8444444444444444\n",
      "0.15 0.9425837320574163 0.8444444444444444\n",
      "0.16 0.9521531100478469 0.8333333333333334\n",
      "0.17 0.9521531100478469 0.8111111111111111\n",
      "0.18 0.9521531100478469 0.8\n",
      "0.19 0.9569377990430622 0.8\n",
      "0.2 0.9617224880382775 0.7888888888888889\n",
      "0.21 0.9617224880382775 0.7666666666666667\n",
      "0.22 0.9617224880382775 0.7777777777777778\n",
      "0.23 0.9617224880382775 0.7666666666666667\n",
      "0.24 0.9665071770334929 0.7555555555555555\n",
      "0.25 0.9712918660287081 0.7555555555555555\n",
      "0.26 0.9760765550239234 0.7555555555555555\n",
      "0.27 0.9760765550239234 0.7666666666666667\n",
      "0.28 0.9760765550239234 0.7666666666666667\n",
      "0.29 0.9808612440191388 0.7777777777777778\n",
      "0.3 0.9808612440191388 0.7777777777777778\n",
      "0.31 0.9808612440191388 0.7666666666666667\n",
      "0.32 0.9808612440191388 0.7555555555555555\n",
      "0.33 0.9808612440191388 0.7555555555555555\n",
      "0.34 0.9856459330143541 0.7444444444444445\n",
      "0.35 0.9856459330143541 0.7333333333333333\n",
      "0.36 0.9856459330143541 0.7333333333333333\n",
      "0.37 0.9856459330143541 0.7444444444444445\n",
      "0.38 0.9856459330143541 0.7444444444444445\n",
      "0.39 0.9856459330143541 0.7444444444444445\n",
      "0.4 0.9904306220095693 0.7333333333333333\n",
      "0.41 0.9904306220095693 0.7333333333333333\n",
      "0.42 0.9904306220095693 0.7333333333333333\n",
      "0.43 0.9904306220095693 0.7333333333333333\n",
      "0.44 0.9904306220095693 0.7333333333333333\n",
      "0.45 0.9904306220095693 0.7333333333333333\n",
      "0.46 0.9904306220095693 0.7444444444444445\n",
      "0.47 0.9904306220095693 0.7444444444444445\n",
      "0.48 0.9904306220095693 0.7444444444444445\n",
      "0.49 0.9904306220095693 0.7444444444444445\n",
      "0.5 0.9904306220095693 0.7444444444444445\n",
      "0.51 0.9904306220095693 0.7444444444444445\n",
      "0.52 0.9904306220095693 0.7555555555555555\n",
      "0.53 0.9904306220095693 0.7444444444444445\n",
      "0.54 0.9904306220095693 0.7444444444444445\n",
      "0.55 0.9904306220095693 0.7444444444444445\n",
      "0.56 0.9904306220095693 0.7333333333333333\n",
      "0.57 0.9904306220095693 0.7333333333333333\n",
      "0.58 0.9904306220095693 0.7333333333333333\n",
      "0.59 0.9904306220095693 0.7333333333333333\n",
      "0.6 0.9904306220095693 0.7333333333333333\n",
      "0.61 0.9904306220095693 0.7333333333333333\n",
      "0.62 0.9904306220095693 0.7333333333333333\n",
      "0.63 0.9904306220095693 0.7333333333333333\n",
      "0.64 0.9904306220095693 0.7333333333333333\n",
      "0.65 0.9904306220095693 0.7333333333333333\n",
      "0.66 0.9904306220095693 0.7333333333333333\n",
      "0.67 0.9904306220095693 0.7333333333333333\n",
      "0.68 0.9904306220095693 0.7333333333333333\n",
      "0.69 0.9904306220095693 0.7333333333333333\n",
      "0.7 0.9952153110047847 0.7333333333333333\n",
      "0.71 0.9952153110047847 0.7333333333333333\n",
      "0.72 0.9952153110047847 0.7333333333333333\n",
      "0.73 0.9952153110047847 0.7333333333333333\n",
      "0.74 0.9952153110047847 0.7333333333333333\n",
      "0.75 0.9952153110047847 0.7333333333333333\n",
      "0.76 1.0 0.7333333333333333\n",
      "0.77 1.0 0.7444444444444445\n",
      "0.78 1.0 0.7444444444444445\n",
      "0.79 1.0 0.7555555555555555\n",
      "0.8 1.0 0.7555555555555555\n",
      "0.81 1.0 0.7555555555555555\n",
      "0.82 1.0 0.7555555555555555\n",
      "0.83 1.0 0.7555555555555555\n",
      "0.84 1.0 0.7555555555555555\n",
      "0.85 1.0 0.7555555555555555\n",
      "0.86 1.0 0.7555555555555555\n",
      "0.87 1.0 0.7555555555555555\n",
      "0.88 1.0 0.7555555555555555\n",
      "0.89 1.0 0.7555555555555555\n",
      "0.9 1.0 0.7555555555555555\n",
      "0.91 1.0 0.7555555555555555\n",
      "0.92 1.0 0.7555555555555555\n",
      "0.93 1.0 0.7555555555555555\n",
      "0.94 1.0 0.7555555555555555\n",
      "0.95 1.0 0.7555555555555555\n",
      "0.96 1.0 0.7555555555555555\n",
      "0.97 1.0 0.7555555555555555\n",
      "0.98 1.0 0.7555555555555555\n",
      "0.99 1.0 0.7555555555555555\n"
     ]
    }
   ],
   "source": [
    "c_range = [i/100 for i in range(1,100)]\n",
    "\n",
    "for c in c_range:\n",
    "    svm.set_params(gamma=c)\n",
    "    svm.fit(x_train_std,y_train)\n",
    "    print(c,svm.score(x_train_std,y_train),svm.score(x_test_std,y_test))"
   ]
  },
  {
   "cell_type": "code",
   "execution_count": 95,
   "metadata": {
    "scrolled": true
   },
   "outputs": [
    {
     "name": "stdout",
     "output_type": "stream",
     "text": [
      "0.001 0.645933014354067 0.7555555555555555\n",
      "0.002 0.6602870813397129 0.7666666666666667\n",
      "0.003 0.6889952153110048 0.7777777777777778\n",
      "0.004 0.7177033492822966 0.8111111111111111\n",
      "0.005 0.7368421052631579 0.8333333333333334\n",
      "0.006 0.7607655502392344 0.8555555555555555\n",
      "0.007 0.7703349282296651 0.8555555555555555\n",
      "0.008 0.784688995215311 0.8555555555555555\n",
      "0.009 0.8086124401913876 0.8777777777777778\n",
      "0.01 0.8086124401913876 0.8777777777777778\n",
      "0.011 0.8086124401913876 0.8777777777777778\n",
      "0.012 0.8086124401913876 0.8777777777777778\n",
      "0.013 0.8038277511961722 0.8888888888888888\n",
      "0.014 0.8181818181818182 0.8777777777777778\n",
      "0.015 0.8181818181818182 0.8777777777777778\n",
      "0.016 0.8181818181818182 0.8777777777777778\n",
      "0.017 0.8181818181818182 0.8777777777777778\n",
      "0.018 0.8229665071770335 0.8777777777777778\n",
      "0.019 0.8277511961722488 0.8777777777777778\n",
      "0.02 0.8277511961722488 0.8888888888888888\n",
      "0.021 0.8325358851674641 0.8888888888888888\n",
      "0.022 0.8325358851674641 0.8888888888888888\n",
      "0.023 0.8325358851674641 0.8888888888888888\n",
      "0.024 0.8325358851674641 0.8888888888888888\n",
      "0.025 0.8373205741626795 0.8888888888888888\n",
      "0.026 0.8373205741626795 0.8777777777777778\n",
      "0.027 0.8373205741626795 0.8777777777777778\n",
      "0.028 0.8421052631578947 0.8777777777777778\n",
      "0.029 0.8421052631578947 0.8777777777777778\n",
      "0.03 0.8421052631578947 0.8666666666666667\n",
      "0.031 0.8421052631578947 0.8666666666666667\n",
      "0.032 0.8421052631578947 0.8666666666666667\n",
      "0.033 0.8421052631578947 0.8666666666666667\n",
      "0.034 0.84688995215311 0.8666666666666667\n",
      "0.035 0.8516746411483254 0.8666666666666667\n",
      "0.036 0.8516746411483254 0.8666666666666667\n",
      "0.037 0.8516746411483254 0.8666666666666667\n",
      "0.038 0.8516746411483254 0.8666666666666667\n",
      "0.039 0.8516746411483254 0.8666666666666667\n",
      "0.04 0.8516746411483254 0.8666666666666667\n",
      "0.041 0.8516746411483254 0.8666666666666667\n",
      "0.042 0.8564593301435407 0.8666666666666667\n",
      "0.043 0.8564593301435407 0.8666666666666667\n",
      "0.044 0.861244019138756 0.8666666666666667\n",
      "0.045 0.861244019138756 0.8666666666666667\n",
      "0.046 0.8660287081339713 0.8555555555555555\n",
      "0.047 0.8708133971291866 0.8555555555555555\n",
      "0.048 0.8708133971291866 0.8555555555555555\n",
      "0.049 0.8708133971291866 0.8555555555555555\n",
      "0.05 0.8708133971291866 0.8555555555555555\n",
      "0.051 0.8755980861244019 0.8555555555555555\n",
      "0.052 0.8755980861244019 0.8555555555555555\n",
      "0.053 0.8755980861244019 0.8555555555555555\n",
      "0.054 0.8755980861244019 0.8555555555555555\n",
      "0.055 0.8755980861244019 0.8444444444444444\n",
      "0.056 0.8755980861244019 0.8444444444444444\n",
      "0.057 0.8755980861244019 0.8444444444444444\n",
      "0.058 0.8755980861244019 0.8444444444444444\n",
      "0.059 0.8755980861244019 0.8444444444444444\n",
      "0.06 0.8755980861244019 0.8444444444444444\n",
      "0.061 0.8755980861244019 0.8444444444444444\n",
      "0.062 0.8755980861244019 0.8444444444444444\n",
      "0.063 0.8803827751196173 0.8444444444444444\n",
      "0.064 0.8803827751196173 0.8444444444444444\n",
      "0.065 0.8803827751196173 0.8444444444444444\n",
      "0.066 0.8803827751196173 0.8444444444444444\n",
      "0.067 0.8851674641148325 0.8444444444444444\n",
      "0.068 0.8851674641148325 0.8444444444444444\n",
      "0.069 0.8851674641148325 0.8444444444444444\n",
      "0.07 0.8851674641148325 0.8444444444444444\n",
      "0.071 0.8851674641148325 0.8444444444444444\n",
      "0.072 0.8899521531100478 0.8444444444444444\n",
      "0.073 0.8947368421052632 0.8444444444444444\n",
      "0.074 0.8995215311004785 0.8444444444444444\n",
      "0.075 0.8995215311004785 0.8444444444444444\n",
      "0.076 0.8995215311004785 0.8444444444444444\n",
      "0.077 0.9043062200956937 0.8444444444444444\n",
      "0.078 0.9043062200956937 0.8444444444444444\n",
      "0.079 0.9043062200956937 0.8444444444444444\n",
      "0.08 0.9043062200956937 0.8444444444444444\n",
      "0.081 0.9043062200956937 0.8444444444444444\n",
      "0.082 0.9043062200956937 0.8444444444444444\n",
      "0.083 0.9043062200956937 0.8444444444444444\n",
      "0.084 0.9043062200956937 0.8444444444444444\n",
      "0.085 0.9043062200956937 0.8444444444444444\n",
      "0.086 0.9043062200956937 0.8444444444444444\n",
      "0.087 0.9043062200956937 0.8444444444444444\n",
      "0.088 0.9043062200956937 0.8444444444444444\n",
      "0.089 0.9043062200956937 0.8444444444444444\n",
      "0.09 0.9043062200956937 0.8444444444444444\n",
      "0.091 0.9043062200956937 0.8444444444444444\n",
      "0.092 0.9043062200956937 0.8444444444444444\n",
      "0.093 0.8995215311004785 0.8444444444444444\n",
      "0.094 0.8995215311004785 0.8444444444444444\n",
      "0.095 0.8995215311004785 0.8444444444444444\n",
      "0.096 0.8995215311004785 0.8444444444444444\n",
      "0.097 0.9043062200956937 0.8444444444444444\n",
      "0.098 0.9043062200956937 0.8444444444444444\n",
      "0.099 0.9090909090909091 0.8444444444444444\n"
     ]
    }
   ],
   "source": [
    "c_range = [i/1000 for i in range(1,100)]\n",
    "\n",
    "for c in c_range:\n",
    "    svm.set_params(gamma=c)\n",
    "    svm.fit(x_train_std,y_train)\n",
    "    print(c,svm.score(x_train_std,y_train),svm.score(x_test_std,y_test))"
   ]
  },
  {
   "cell_type": "code",
   "execution_count": 97,
   "metadata": {},
   "outputs": [],
   "source": [
    "# gamma= 0.044"
   ]
  },
  {
   "cell_type": "code",
   "execution_count": 99,
   "metadata": {},
   "outputs": [
    {
     "name": "stdout",
     "output_type": "stream",
     "text": [
      "0.8325358851674641 0.8666666666666667\n"
     ]
    }
   ],
   "source": [
    "svm = SVC(C=0.44,gamma=0.044,kernel='rbf')\n",
    "svm.fit(x_train_std,y_train)\n",
    "print(svm.score(x_train_std,y_train),svm.score(x_test_std,y_test))\n"
   ]
  },
  {
   "cell_type": "code",
   "execution_count": 100,
   "metadata": {},
   "outputs": [
    {
     "name": "stdout",
     "output_type": "stream",
     "text": [
      "0.8229665071770335 0.8666666666666667\n"
     ]
    }
   ],
   "source": [
    "svm = SVC(C=0.44,gamma=0.044,kernel='linear')\n",
    "svm.fit(x_train_std,y_train)\n",
    "print(svm.score(x_train_std,y_train),svm.score(x_test_std,y_test))"
   ]
  },
  {
   "cell_type": "code",
   "execution_count": 101,
   "metadata": {},
   "outputs": [
    {
     "name": "stdout",
     "output_type": "stream",
     "text": [
      "0.6650717703349283 0.7666666666666667\n"
     ]
    }
   ],
   "source": [
    "svm = SVC(C=0.44,gamma=0.044,kernel='poly')\n",
    "svm.fit(x_train_std,y_train)\n",
    "print(svm.score(x_train_std,y_train),svm.score(x_test_std,y_test))"
   ]
  },
  {
   "cell_type": "code",
   "execution_count": 102,
   "metadata": {},
   "outputs": [
    {
     "name": "stdout",
     "output_type": "stream",
     "text": [
      "0.8086124401913876 0.9\n"
     ]
    }
   ],
   "source": [
    "svm = SVC(C=0.44,gamma=0.044,kernel='sigmoid')\n",
    "svm.fit(x_train_std,y_train)\n",
    "print(svm.score(x_train_std,y_train),svm.score(x_test_std,y_test))"
   ]
  },
  {
   "cell_type": "code",
   "execution_count": 103,
   "metadata": {},
   "outputs": [],
   "source": [
    "# kernel = 'rbf' gives the better results"
   ]
  },
  {
   "cell_type": "code",
   "execution_count": 106,
   "metadata": {},
   "outputs": [
    {
     "name": "stdout",
     "output_type": "stream",
     "text": [
      "0.8325358851674641 0.8666666666666667\n"
     ]
    }
   ],
   "source": [
    "svm = SVC(C=0.44,gamma=0.044,kernel='rbf',probability=True,random_state=42)\n",
    "svm.fit(x_train_std,y_train)\n",
    "print(svm.score(x_train_std,y_train),svm.score(x_test_std,y_test))\n"
   ]
  },
  {
   "cell_type": "code",
   "execution_count": 107,
   "metadata": {},
   "outputs": [],
   "source": [
    "y_pred_svm = svm.predict(x_test_std)\n",
    "y_prob_svm = svm.predict_proba(x_test_std)"
   ]
  },
  {
   "cell_type": "code",
   "execution_count": 109,
   "metadata": {},
   "outputs": [
    {
     "data": {
      "text/plain": [
       "0.8666666666666667"
      ]
     },
     "execution_count": 109,
     "metadata": {},
     "output_type": "execute_result"
    }
   ],
   "source": [
    "accuracy_svm = accuracy_score(y_test,y_pred_svm)\n",
    "accuracy_svm"
   ]
  },
  {
   "cell_type": "code",
   "execution_count": 110,
   "metadata": {},
   "outputs": [
    {
     "name": "stdout",
     "output_type": "stream",
     "text": [
      "              precision    recall  f1-score   support\n",
      "\n",
      "           0       0.90      0.93      0.91        68\n",
      "           1       0.75      0.68      0.71        22\n",
      "\n",
      "    accuracy                           0.87        90\n",
      "   macro avg       0.82      0.80      0.81        90\n",
      "weighted avg       0.86      0.87      0.86        90\n",
      "\n"
     ]
    }
   ],
   "source": [
    "print(classification_report(y_test,y_pred_svm))"
   ]
  },
  {
   "cell_type": "code",
   "execution_count": 111,
   "metadata": {},
   "outputs": [
    {
     "data": {
      "text/plain": [
       "<matplotlib.axes._subplots.AxesSubplot at 0x2e8ddfc90d0>"
      ]
     },
     "execution_count": 111,
     "metadata": {},
     "output_type": "execute_result"
    },
    {
     "data": {
      "image/png": "[encoded data removed]",
      "text/plain": [
       "<Figure size 432x288 with 2 Axes>"
      ]
     },
     "metadata": {
      "needs_background": "light"
     },
     "output_type": "display_data"
    }
   ],
   "source": [
    "sns.heatmap(confusion_matrix(y_test,y_pred_svm),annot=True,cmap='coolwarm')"
   ]
  },
  {
   "cell_type": "code",
   "execution_count": 113,
   "metadata": {},
   "outputs": [
    {
     "data": {
      "text/plain": [
       "0.9131016042780749"
      ]
     },
     "execution_count": 113,
     "metadata": {},
     "output_type": "execute_result"
    }
   ],
   "source": [
    "fpr_svm,tpr_svm,threshold_svm = roc_curve(y_test,y_prob_svm[:,1])\n",
    "auc_svm = auc(fpr_svm,tpr_svm)\n",
    "auc_svm"
   ]
  },
  {
   "cell_type": "code",
   "execution_count": 114,
   "metadata": {},
   "outputs": [
    {
     "data": {
      "image/png": "[encoded data removed]",
      "text/plain": [
       "<Figure size 720x432 with 1 Axes>"
      ]
     },
     "metadata": {
      "needs_background": "light"
     },
     "output_type": "display_data"
    }
   ],
   "source": [
    "plt.figure(figsize=(10,6))\n",
    "lw = 2\n",
    "plt.plot(fpr_dt, tpr_dt, color='green',\n",
    "         lw=lw, label='Decision Tree(AUC = %0.2f)' % roc_auc_dt)\n",
    "plt.plot([0, 1], [0, 1], color='navy', lw=lw, linestyle='--')\n",
    "plt.plot(fpr_rf, tpr_rf, color='Blue',\n",
    "         lw=lw, label='Random Forest(AUC = %0.2f)' % roc_auc_rf)\n",
    "plt.plot(fpr_lr, tpr_lr, color='red',\n",
    "         lw=lw, label='Logistic Regression(AUC = %0.2f)' % roc_auc_lr)\n",
    "plt.plot(fpr_KNN, tpr_KNN, color='black',\n",
    "         lw=lw, label='KNN(AUC = %0.2f)' % roc_auc_KNN)\n",
    "plt.plot(fpr_svm, tpr_svm, color='purple',\n",
    "         lw=lw, label='SVM(AUC = %0.2f)' % auc_svm)\n",
    "plt.xlim([0.0, 1.0])\n",
    "plt.ylim([0.0, 1.05])\n",
    "plt.xlabel('False Positive Rate')\n",
    "plt.ylabel('True Positive Rate')\n",
    "plt.title('Area Under Curve')\n",
    "plt.legend(loc=\"lower right\")\n",
    "plt.show()"
   ]
  },
  {
   "cell_type": "code",
   "execution_count": null,
   "metadata": {},
   "outputs": [],
   "source": []
  },
  {
   "cell_type": "code",
   "execution_count": null,
   "metadata": {},
   "outputs": [],
   "source": []
  },
  {
   "cell_type": "code",
   "execution_count": null,
   "metadata": {},
   "outputs": [],
   "source": []
  },
  {
   "cell_type": "code",
   "execution_count": null,
   "metadata": {},
   "outputs": [],
   "source": []
  },
  {
   "cell_type": "code",
   "execution_count": null,
   "metadata": {},
   "outputs": [],
   "source": []
  },
  {
   "cell_type": "code",
   "execution_count": null,
   "metadata": {},
   "outputs": [],
   "source": []
  },
  {
   "cell_type": "code",
   "execution_count": null,
   "metadata": {},
   "outputs": [],
   "source": []
  },
  {
   "cell_type": "code",
   "execution_count": null,
   "metadata": {},
   "outputs": [],
   "source": []
  },
  {
   "cell_type": "code",
   "execution_count": null,
   "metadata": {},
   "outputs": [],
   "source": []
  },
  {
   "cell_type": "code",
   "execution_count": null,
   "metadata": {},
   "outputs": [],
   "source": []
  }
 ],
 "metadata": {
  "kernelspec": {
   "display_name": "Python 3",
   "language": "python",
   "name": "python3"
  },
  "language_info": {
   "codemirror_mode": {
    "name": "ipython",
    "version": 3
   },
   "file_extension": ".py",
   "mimetype": "text/x-python",
   "name": "python",
   "nbconvert_exporter": "python",
   "pygments_lexer": "ipython3",
   "version": "3.8.3"
  }
 },
 "nbformat": 4,
 "nbformat_minor": 4
}
